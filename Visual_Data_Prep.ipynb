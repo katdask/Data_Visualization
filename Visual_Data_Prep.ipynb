{
  "nbformat": 4,
  "nbformat_minor": 0,
  "metadata": {
    "colab": {
      "name": "Visual_Data_Prep.ipynb",
      "provenance": [],
      "authorship_tag": "ABX9TyN4735BGtq682Ham5GWQkL0",
      "include_colab_link": true
    },
    "kernelspec": {
      "name": "python3",
      "display_name": "Python 3"
    },
    "language_info": {
      "name": "python"
    }
  },
  "cells": [
    {
      "cell_type": "markdown",
      "metadata": {
        "id": "view-in-github",
        "colab_type": "text"
      },
      "source": [
        "<a href=\"https://colab.research.google.com/github/katdask/Data_Visualization/blob/main/Visual_Data_Prep.ipynb\" target=\"_parent\"><img src=\"https://colab.research.google.com/assets/colab-badge.svg\" alt=\"Open In Colab\"/></a>"
      ]
    },
    {
      "cell_type": "code",
      "metadata": {
        "id": "f_XKBZiGSa5i"
      },
      "source": [
        "import pandas as pd\n",
        "import numpy as np\n",
        "import os"
      ],
      "execution_count": 2,
      "outputs": []
    },
    {
      "cell_type": "code",
      "metadata": {
        "id": "kemfQOImXkPX",
        "colab": {
          "base_uri": "https://localhost:8080/"
        },
        "outputId": "2da4d6ef-f3ad-4157-e491-ddb4caa5623f"
      },
      "source": [
        "from google.colab import drive\n",
        "drive.mount('/content/drive')"
      ],
      "execution_count": 5,
      "outputs": [
        {
          "output_type": "stream",
          "text": [
            "Drive already mounted at /content/drive; to attempt to forcibly remount, call drive.mount(\"/content/drive\", force_remount=True).\n"
          ],
          "name": "stdout"
        }
      ]
    },
    {
      "cell_type": "code",
      "metadata": {
        "colab": {
          "base_uri": "https://localhost:8080/"
        },
        "id": "hiIzEl30tdYB",
        "outputId": "92dbc4ba-316f-4635-db38-946d8fa5a4e1"
      },
      "source": [
        "!unzip -u \"/content/drive/My Drive/Airports/2003.zip\" -d \"/content/drive/My Drive/Airports\""
      ],
      "execution_count": 3,
      "outputs": [
        {
          "output_type": "stream",
          "text": [
            "Archive:  /content/drive/My Drive/Airports/2003.zip\n",
            "  inflating: /content/drive/My Drive/Airports/2003.csv  \n"
          ],
          "name": "stdout"
        }
      ]
    },
    {
      "cell_type": "code",
      "metadata": {
        "colab": {
          "base_uri": "https://localhost:8080/"
        },
        "id": "j_pFs3PS6xst",
        "outputId": "120d178a-319e-4e54-d8f0-4031dc33122d"
      },
      "source": [
        "!unzip -u \"/content/drive/My Drive/Airports/2004.zip\" -d \"/content/drive/My Drive/Airports\""
      ],
      "execution_count": 25,
      "outputs": [
        {
          "output_type": "stream",
          "text": [
            "Archive:  /content/drive/My Drive/Airports/2004.zip\n",
            "  inflating: /content/drive/My Drive/Airports/2004.csv  \n"
          ],
          "name": "stdout"
        }
      ]
    },
    {
      "cell_type": "code",
      "metadata": {
        "colab": {
          "base_uri": "https://localhost:8080/"
        },
        "id": "pUrQiSfcEIO9",
        "outputId": "64583448-a9dd-49d2-c732-99ef4e4b4a93"
      },
      "source": [
        "!unzip -u \"/content/drive/My Drive/Airports/2005.zip\" -d \"/content/drive/My Drive/Airports\""
      ],
      "execution_count": 42,
      "outputs": [
        {
          "output_type": "stream",
          "text": [
            "Archive:  /content/drive/My Drive/Airports/2005.zip\n",
            "  inflating: /content/drive/My Drive/Airports/2005.csv  \n"
          ],
          "name": "stdout"
        }
      ]
    },
    {
      "cell_type": "code",
      "metadata": {
        "colab": {
          "base_uri": "https://localhost:8080/"
        },
        "id": "dMMBPpMdEIeo",
        "outputId": "432492ea-c402-4062-ac6d-dd81555452b7"
      },
      "source": [
        "!unzip -u \"/content/drive/My Drive/Airports/2006.zip\" -d \"/content/drive/My Drive/Airports\""
      ],
      "execution_count": 45,
      "outputs": [
        {
          "output_type": "stream",
          "text": [
            "Archive:  /content/drive/My Drive/Airports/2006.zip\n",
            "  inflating: /content/drive/My Drive/Airports/2006.csv  \n"
          ],
          "name": "stdout"
        }
      ]
    },
    {
      "cell_type": "code",
      "metadata": {
        "colab": {
          "base_uri": "https://localhost:8080/"
        },
        "id": "B-ylOuXjEIrI",
        "outputId": "1302a090-a3d0-413b-d327-e87e16e2d100"
      },
      "source": [
        "!unzip -u \"/content/drive/My Drive/Airports/2007.zip\" -d \"/content/drive/My Drive/Airports\""
      ],
      "execution_count": 55,
      "outputs": [
        {
          "output_type": "stream",
          "text": [
            "Archive:  /content/drive/My Drive/Airports/2007.zip\n",
            "  inflating: /content/drive/My Drive/Airports/2007.csv  \n"
          ],
          "name": "stdout"
        }
      ]
    },
    {
      "cell_type": "code",
      "metadata": {
        "id": "xnbE08y4tdUb",
        "colab": {
          "base_uri": "https://localhost:8080/"
        },
        "outputId": "e505a995-3b7b-455d-e637-9a9c3c6bcc33"
      },
      "source": [
        "%cd /content/drive/MyDrive/Airports/"
      ],
      "execution_count": 6,
      "outputs": [
        {
          "output_type": "stream",
          "text": [
            "/content/drive/MyDrive/Airports\n"
          ],
          "name": "stdout"
        }
      ]
    },
    {
      "cell_type": "code",
      "metadata": {
        "colab": {
          "base_uri": "https://localhost:8080/",
          "height": 257
        },
        "id": "79tvdvELyCVX",
        "outputId": "c6e01417-3471-493e-a08d-8d59b8f71787"
      },
      "source": [
        "df_2003=pd.read_csv(\"2003.csv\")\n",
        "df_2003.head()"
      ],
      "execution_count": 7,
      "outputs": [
        {
          "output_type": "stream",
          "text": [
            "/usr/local/lib/python3.7/dist-packages/IPython/core/interactiveshell.py:2718: DtypeWarning: Columns (22) have mixed types.Specify dtype option on import or set low_memory=False.\n",
            "  interactivity=interactivity, compiler=compiler, result=result)\n"
          ],
          "name": "stderr"
        },
        {
          "output_type": "execute_result",
          "data": {
            "text/html": [
              "<div>\n",
              "<style scoped>\n",
              "    .dataframe tbody tr th:only-of-type {\n",
              "        vertical-align: middle;\n",
              "    }\n",
              "\n",
              "    .dataframe tbody tr th {\n",
              "        vertical-align: top;\n",
              "    }\n",
              "\n",
              "    .dataframe thead th {\n",
              "        text-align: right;\n",
              "    }\n",
              "</style>\n",
              "<table border=\"1\" class=\"dataframe\">\n",
              "  <thead>\n",
              "    <tr style=\"text-align: right;\">\n",
              "      <th></th>\n",
              "      <th>Year</th>\n",
              "      <th>Month</th>\n",
              "      <th>DayofMonth</th>\n",
              "      <th>DayOfWeek</th>\n",
              "      <th>DepTime</th>\n",
              "      <th>CRSDepTime</th>\n",
              "      <th>ArrTime</th>\n",
              "      <th>CRSArrTime</th>\n",
              "      <th>UniqueCarrier</th>\n",
              "      <th>FlightNum</th>\n",
              "      <th>TailNum</th>\n",
              "      <th>ActualElapsedTime</th>\n",
              "      <th>CRSElapsedTime</th>\n",
              "      <th>AirTime</th>\n",
              "      <th>ArrDelay</th>\n",
              "      <th>DepDelay</th>\n",
              "      <th>Origin</th>\n",
              "      <th>Dest</th>\n",
              "      <th>Distance</th>\n",
              "      <th>TaxiIn</th>\n",
              "      <th>TaxiOut</th>\n",
              "      <th>Cancelled</th>\n",
              "      <th>CancellationCode</th>\n",
              "      <th>Diverted</th>\n",
              "      <th>CarrierDelay</th>\n",
              "      <th>WeatherDelay</th>\n",
              "      <th>NASDelay</th>\n",
              "      <th>SecurityDelay</th>\n",
              "      <th>LateAircraftDelay</th>\n",
              "    </tr>\n",
              "  </thead>\n",
              "  <tbody>\n",
              "    <tr>\n",
              "      <th>0</th>\n",
              "      <td>2003</td>\n",
              "      <td>1</td>\n",
              "      <td>29</td>\n",
              "      <td>3</td>\n",
              "      <td>1651.0</td>\n",
              "      <td>1655</td>\n",
              "      <td>1912.0</td>\n",
              "      <td>1913</td>\n",
              "      <td>UA</td>\n",
              "      <td>1017</td>\n",
              "      <td>N202UA</td>\n",
              "      <td>141.0</td>\n",
              "      <td>138.0</td>\n",
              "      <td>119.0</td>\n",
              "      <td>-1.0</td>\n",
              "      <td>-4.0</td>\n",
              "      <td>ORD</td>\n",
              "      <td>MSY</td>\n",
              "      <td>837</td>\n",
              "      <td>5</td>\n",
              "      <td>17</td>\n",
              "      <td>0</td>\n",
              "      <td>NaN</td>\n",
              "      <td>0</td>\n",
              "      <td>NaN</td>\n",
              "      <td>NaN</td>\n",
              "      <td>NaN</td>\n",
              "      <td>NaN</td>\n",
              "      <td>NaN</td>\n",
              "    </tr>\n",
              "    <tr>\n",
              "      <th>1</th>\n",
              "      <td>2003</td>\n",
              "      <td>1</td>\n",
              "      <td>30</td>\n",
              "      <td>4</td>\n",
              "      <td>1654.0</td>\n",
              "      <td>1655</td>\n",
              "      <td>1910.0</td>\n",
              "      <td>1913</td>\n",
              "      <td>UA</td>\n",
              "      <td>1017</td>\n",
              "      <td>N311UA</td>\n",
              "      <td>136.0</td>\n",
              "      <td>138.0</td>\n",
              "      <td>108.0</td>\n",
              "      <td>-3.0</td>\n",
              "      <td>-1.0</td>\n",
              "      <td>ORD</td>\n",
              "      <td>MSY</td>\n",
              "      <td>837</td>\n",
              "      <td>2</td>\n",
              "      <td>26</td>\n",
              "      <td>0</td>\n",
              "      <td>NaN</td>\n",
              "      <td>0</td>\n",
              "      <td>NaN</td>\n",
              "      <td>NaN</td>\n",
              "      <td>NaN</td>\n",
              "      <td>NaN</td>\n",
              "      <td>NaN</td>\n",
              "    </tr>\n",
              "    <tr>\n",
              "      <th>2</th>\n",
              "      <td>2003</td>\n",
              "      <td>1</td>\n",
              "      <td>31</td>\n",
              "      <td>5</td>\n",
              "      <td>1724.0</td>\n",
              "      <td>1655</td>\n",
              "      <td>1936.0</td>\n",
              "      <td>1913</td>\n",
              "      <td>UA</td>\n",
              "      <td>1017</td>\n",
              "      <td>N317UA</td>\n",
              "      <td>132.0</td>\n",
              "      <td>138.0</td>\n",
              "      <td>110.0</td>\n",
              "      <td>23.0</td>\n",
              "      <td>29.0</td>\n",
              "      <td>ORD</td>\n",
              "      <td>MSY</td>\n",
              "      <td>837</td>\n",
              "      <td>5</td>\n",
              "      <td>17</td>\n",
              "      <td>0</td>\n",
              "      <td>NaN</td>\n",
              "      <td>0</td>\n",
              "      <td>NaN</td>\n",
              "      <td>NaN</td>\n",
              "      <td>NaN</td>\n",
              "      <td>NaN</td>\n",
              "      <td>NaN</td>\n",
              "    </tr>\n",
              "    <tr>\n",
              "      <th>3</th>\n",
              "      <td>2003</td>\n",
              "      <td>1</td>\n",
              "      <td>1</td>\n",
              "      <td>3</td>\n",
              "      <td>1033.0</td>\n",
              "      <td>1035</td>\n",
              "      <td>1625.0</td>\n",
              "      <td>1634</td>\n",
              "      <td>UA</td>\n",
              "      <td>1018</td>\n",
              "      <td>N409UA</td>\n",
              "      <td>232.0</td>\n",
              "      <td>239.0</td>\n",
              "      <td>215.0</td>\n",
              "      <td>-9.0</td>\n",
              "      <td>-2.0</td>\n",
              "      <td>OAK</td>\n",
              "      <td>ORD</td>\n",
              "      <td>1835</td>\n",
              "      <td>6</td>\n",
              "      <td>11</td>\n",
              "      <td>0</td>\n",
              "      <td>NaN</td>\n",
              "      <td>0</td>\n",
              "      <td>NaN</td>\n",
              "      <td>NaN</td>\n",
              "      <td>NaN</td>\n",
              "      <td>NaN</td>\n",
              "      <td>NaN</td>\n",
              "    </tr>\n",
              "    <tr>\n",
              "      <th>4</th>\n",
              "      <td>2003</td>\n",
              "      <td>1</td>\n",
              "      <td>2</td>\n",
              "      <td>4</td>\n",
              "      <td>1053.0</td>\n",
              "      <td>1035</td>\n",
              "      <td>1726.0</td>\n",
              "      <td>1634</td>\n",
              "      <td>UA</td>\n",
              "      <td>1018</td>\n",
              "      <td>N496UA</td>\n",
              "      <td>273.0</td>\n",
              "      <td>239.0</td>\n",
              "      <td>214.0</td>\n",
              "      <td>52.0</td>\n",
              "      <td>18.0</td>\n",
              "      <td>OAK</td>\n",
              "      <td>ORD</td>\n",
              "      <td>1835</td>\n",
              "      <td>13</td>\n",
              "      <td>46</td>\n",
              "      <td>0</td>\n",
              "      <td>NaN</td>\n",
              "      <td>0</td>\n",
              "      <td>NaN</td>\n",
              "      <td>NaN</td>\n",
              "      <td>NaN</td>\n",
              "      <td>NaN</td>\n",
              "      <td>NaN</td>\n",
              "    </tr>\n",
              "  </tbody>\n",
              "</table>\n",
              "</div>"
            ],
            "text/plain": [
              "   Year  Month  DayofMonth  ...  NASDelay  SecurityDelay  LateAircraftDelay\n",
              "0  2003      1          29  ...       NaN            NaN                NaN\n",
              "1  2003      1          30  ...       NaN            NaN                NaN\n",
              "2  2003      1          31  ...       NaN            NaN                NaN\n",
              "3  2003      1           1  ...       NaN            NaN                NaN\n",
              "4  2003      1           2  ...       NaN            NaN                NaN\n",
              "\n",
              "[5 rows x 29 columns]"
            ]
          },
          "metadata": {
            "tags": []
          },
          "execution_count": 7
        }
      ]
    },
    {
      "cell_type": "code",
      "metadata": {
        "colab": {
          "base_uri": "https://localhost:8080/",
          "height": 222
        },
        "id": "dx-yYSBj7EFU",
        "outputId": "ed5e3506-4c11-4947-bbcb-860fb5c1852e"
      },
      "source": [
        "df_2004=pd.read_csv(\"2004.csv\")\n",
        "df_2004.head()"
      ],
      "execution_count": 8,
      "outputs": [
        {
          "output_type": "execute_result",
          "data": {
            "text/html": [
              "<div>\n",
              "<style scoped>\n",
              "    .dataframe tbody tr th:only-of-type {\n",
              "        vertical-align: middle;\n",
              "    }\n",
              "\n",
              "    .dataframe tbody tr th {\n",
              "        vertical-align: top;\n",
              "    }\n",
              "\n",
              "    .dataframe thead th {\n",
              "        text-align: right;\n",
              "    }\n",
              "</style>\n",
              "<table border=\"1\" class=\"dataframe\">\n",
              "  <thead>\n",
              "    <tr style=\"text-align: right;\">\n",
              "      <th></th>\n",
              "      <th>Year</th>\n",
              "      <th>Month</th>\n",
              "      <th>DayofMonth</th>\n",
              "      <th>DayOfWeek</th>\n",
              "      <th>DepTime</th>\n",
              "      <th>CRSDepTime</th>\n",
              "      <th>ArrTime</th>\n",
              "      <th>CRSArrTime</th>\n",
              "      <th>UniqueCarrier</th>\n",
              "      <th>FlightNum</th>\n",
              "      <th>TailNum</th>\n",
              "      <th>ActualElapsedTime</th>\n",
              "      <th>CRSElapsedTime</th>\n",
              "      <th>AirTime</th>\n",
              "      <th>ArrDelay</th>\n",
              "      <th>DepDelay</th>\n",
              "      <th>Origin</th>\n",
              "      <th>Dest</th>\n",
              "      <th>Distance</th>\n",
              "      <th>TaxiIn</th>\n",
              "      <th>TaxiOut</th>\n",
              "      <th>Cancelled</th>\n",
              "      <th>CancellationCode</th>\n",
              "      <th>Diverted</th>\n",
              "      <th>CarrierDelay</th>\n",
              "      <th>WeatherDelay</th>\n",
              "      <th>NASDelay</th>\n",
              "      <th>SecurityDelay</th>\n",
              "      <th>LateAircraftDelay</th>\n",
              "    </tr>\n",
              "  </thead>\n",
              "  <tbody>\n",
              "    <tr>\n",
              "      <th>0</th>\n",
              "      <td>2004</td>\n",
              "      <td>1</td>\n",
              "      <td>12</td>\n",
              "      <td>1</td>\n",
              "      <td>623.0</td>\n",
              "      <td>630</td>\n",
              "      <td>901.0</td>\n",
              "      <td>915</td>\n",
              "      <td>UA</td>\n",
              "      <td>462</td>\n",
              "      <td>N805UA</td>\n",
              "      <td>98.0</td>\n",
              "      <td>105</td>\n",
              "      <td>80.0</td>\n",
              "      <td>-14.0</td>\n",
              "      <td>-7.0</td>\n",
              "      <td>ORD</td>\n",
              "      <td>CLT</td>\n",
              "      <td>599</td>\n",
              "      <td>7</td>\n",
              "      <td>11</td>\n",
              "      <td>0</td>\n",
              "      <td>NaN</td>\n",
              "      <td>0</td>\n",
              "      <td>0</td>\n",
              "      <td>0</td>\n",
              "      <td>0</td>\n",
              "      <td>0</td>\n",
              "      <td>0</td>\n",
              "    </tr>\n",
              "    <tr>\n",
              "      <th>1</th>\n",
              "      <td>2004</td>\n",
              "      <td>1</td>\n",
              "      <td>13</td>\n",
              "      <td>2</td>\n",
              "      <td>621.0</td>\n",
              "      <td>630</td>\n",
              "      <td>911.0</td>\n",
              "      <td>915</td>\n",
              "      <td>UA</td>\n",
              "      <td>462</td>\n",
              "      <td>N851UA</td>\n",
              "      <td>110.0</td>\n",
              "      <td>105</td>\n",
              "      <td>78.0</td>\n",
              "      <td>-4.0</td>\n",
              "      <td>-9.0</td>\n",
              "      <td>ORD</td>\n",
              "      <td>CLT</td>\n",
              "      <td>599</td>\n",
              "      <td>16</td>\n",
              "      <td>16</td>\n",
              "      <td>0</td>\n",
              "      <td>NaN</td>\n",
              "      <td>0</td>\n",
              "      <td>0</td>\n",
              "      <td>0</td>\n",
              "      <td>0</td>\n",
              "      <td>0</td>\n",
              "      <td>0</td>\n",
              "    </tr>\n",
              "    <tr>\n",
              "      <th>2</th>\n",
              "      <td>2004</td>\n",
              "      <td>1</td>\n",
              "      <td>14</td>\n",
              "      <td>3</td>\n",
              "      <td>633.0</td>\n",
              "      <td>630</td>\n",
              "      <td>920.0</td>\n",
              "      <td>915</td>\n",
              "      <td>UA</td>\n",
              "      <td>462</td>\n",
              "      <td>N436UA</td>\n",
              "      <td>107.0</td>\n",
              "      <td>105</td>\n",
              "      <td>88.0</td>\n",
              "      <td>5.0</td>\n",
              "      <td>3.0</td>\n",
              "      <td>ORD</td>\n",
              "      <td>CLT</td>\n",
              "      <td>599</td>\n",
              "      <td>4</td>\n",
              "      <td>15</td>\n",
              "      <td>0</td>\n",
              "      <td>NaN</td>\n",
              "      <td>0</td>\n",
              "      <td>0</td>\n",
              "      <td>0</td>\n",
              "      <td>0</td>\n",
              "      <td>0</td>\n",
              "      <td>0</td>\n",
              "    </tr>\n",
              "    <tr>\n",
              "      <th>3</th>\n",
              "      <td>2004</td>\n",
              "      <td>1</td>\n",
              "      <td>15</td>\n",
              "      <td>4</td>\n",
              "      <td>627.0</td>\n",
              "      <td>630</td>\n",
              "      <td>859.0</td>\n",
              "      <td>915</td>\n",
              "      <td>UA</td>\n",
              "      <td>462</td>\n",
              "      <td>N828UA</td>\n",
              "      <td>92.0</td>\n",
              "      <td>105</td>\n",
              "      <td>78.0</td>\n",
              "      <td>-16.0</td>\n",
              "      <td>-3.0</td>\n",
              "      <td>ORD</td>\n",
              "      <td>CLT</td>\n",
              "      <td>599</td>\n",
              "      <td>4</td>\n",
              "      <td>10</td>\n",
              "      <td>0</td>\n",
              "      <td>NaN</td>\n",
              "      <td>0</td>\n",
              "      <td>0</td>\n",
              "      <td>0</td>\n",
              "      <td>0</td>\n",
              "      <td>0</td>\n",
              "      <td>0</td>\n",
              "    </tr>\n",
              "    <tr>\n",
              "      <th>4</th>\n",
              "      <td>2004</td>\n",
              "      <td>1</td>\n",
              "      <td>16</td>\n",
              "      <td>5</td>\n",
              "      <td>635.0</td>\n",
              "      <td>630</td>\n",
              "      <td>918.0</td>\n",
              "      <td>915</td>\n",
              "      <td>UA</td>\n",
              "      <td>462</td>\n",
              "      <td>N831UA</td>\n",
              "      <td>103.0</td>\n",
              "      <td>105</td>\n",
              "      <td>87.0</td>\n",
              "      <td>3.0</td>\n",
              "      <td>5.0</td>\n",
              "      <td>ORD</td>\n",
              "      <td>CLT</td>\n",
              "      <td>599</td>\n",
              "      <td>3</td>\n",
              "      <td>13</td>\n",
              "      <td>0</td>\n",
              "      <td>NaN</td>\n",
              "      <td>0</td>\n",
              "      <td>0</td>\n",
              "      <td>0</td>\n",
              "      <td>0</td>\n",
              "      <td>0</td>\n",
              "      <td>0</td>\n",
              "    </tr>\n",
              "  </tbody>\n",
              "</table>\n",
              "</div>"
            ],
            "text/plain": [
              "   Year  Month  DayofMonth  ...  NASDelay  SecurityDelay  LateAircraftDelay\n",
              "0  2004      1          12  ...         0              0                  0\n",
              "1  2004      1          13  ...         0              0                  0\n",
              "2  2004      1          14  ...         0              0                  0\n",
              "3  2004      1          15  ...         0              0                  0\n",
              "4  2004      1          16  ...         0              0                  0\n",
              "\n",
              "[5 rows x 29 columns]"
            ]
          },
          "metadata": {
            "tags": []
          },
          "execution_count": 8
        }
      ]
    },
    {
      "cell_type": "code",
      "metadata": {
        "colab": {
          "base_uri": "https://localhost:8080/",
          "height": 222
        },
        "id": "QFtcO1gsEwNQ",
        "outputId": "a4c481b9-3c84-4b21-e4c2-5080a5e604a2"
      },
      "source": [
        "df_2005=pd.read_csv(\"2005.csv\")\n",
        "df_2005.head()"
      ],
      "execution_count": 9,
      "outputs": [
        {
          "output_type": "execute_result",
          "data": {
            "text/html": [
              "<div>\n",
              "<style scoped>\n",
              "    .dataframe tbody tr th:only-of-type {\n",
              "        vertical-align: middle;\n",
              "    }\n",
              "\n",
              "    .dataframe tbody tr th {\n",
              "        vertical-align: top;\n",
              "    }\n",
              "\n",
              "    .dataframe thead th {\n",
              "        text-align: right;\n",
              "    }\n",
              "</style>\n",
              "<table border=\"1\" class=\"dataframe\">\n",
              "  <thead>\n",
              "    <tr style=\"text-align: right;\">\n",
              "      <th></th>\n",
              "      <th>Year</th>\n",
              "      <th>Month</th>\n",
              "      <th>DayofMonth</th>\n",
              "      <th>DayOfWeek</th>\n",
              "      <th>DepTime</th>\n",
              "      <th>CRSDepTime</th>\n",
              "      <th>ArrTime</th>\n",
              "      <th>CRSArrTime</th>\n",
              "      <th>UniqueCarrier</th>\n",
              "      <th>FlightNum</th>\n",
              "      <th>TailNum</th>\n",
              "      <th>ActualElapsedTime</th>\n",
              "      <th>CRSElapsedTime</th>\n",
              "      <th>AirTime</th>\n",
              "      <th>ArrDelay</th>\n",
              "      <th>DepDelay</th>\n",
              "      <th>Origin</th>\n",
              "      <th>Dest</th>\n",
              "      <th>Distance</th>\n",
              "      <th>TaxiIn</th>\n",
              "      <th>TaxiOut</th>\n",
              "      <th>Cancelled</th>\n",
              "      <th>CancellationCode</th>\n",
              "      <th>Diverted</th>\n",
              "      <th>CarrierDelay</th>\n",
              "      <th>WeatherDelay</th>\n",
              "      <th>NASDelay</th>\n",
              "      <th>SecurityDelay</th>\n",
              "      <th>LateAircraftDelay</th>\n",
              "    </tr>\n",
              "  </thead>\n",
              "  <tbody>\n",
              "    <tr>\n",
              "      <th>0</th>\n",
              "      <td>2005</td>\n",
              "      <td>1</td>\n",
              "      <td>28</td>\n",
              "      <td>5</td>\n",
              "      <td>1603.0</td>\n",
              "      <td>1605</td>\n",
              "      <td>1741.0</td>\n",
              "      <td>1759</td>\n",
              "      <td>UA</td>\n",
              "      <td>541</td>\n",
              "      <td>N935UA</td>\n",
              "      <td>158.0</td>\n",
              "      <td>174</td>\n",
              "      <td>131.0</td>\n",
              "      <td>-18.0</td>\n",
              "      <td>-2.0</td>\n",
              "      <td>BOS</td>\n",
              "      <td>ORD</td>\n",
              "      <td>867</td>\n",
              "      <td>4</td>\n",
              "      <td>23</td>\n",
              "      <td>0</td>\n",
              "      <td>NaN</td>\n",
              "      <td>0</td>\n",
              "      <td>0</td>\n",
              "      <td>0</td>\n",
              "      <td>0</td>\n",
              "      <td>0</td>\n",
              "      <td>0</td>\n",
              "    </tr>\n",
              "    <tr>\n",
              "      <th>1</th>\n",
              "      <td>2005</td>\n",
              "      <td>1</td>\n",
              "      <td>29</td>\n",
              "      <td>6</td>\n",
              "      <td>1559.0</td>\n",
              "      <td>1605</td>\n",
              "      <td>1736.0</td>\n",
              "      <td>1759</td>\n",
              "      <td>UA</td>\n",
              "      <td>541</td>\n",
              "      <td>N941UA</td>\n",
              "      <td>157.0</td>\n",
              "      <td>174</td>\n",
              "      <td>136.0</td>\n",
              "      <td>-23.0</td>\n",
              "      <td>-6.0</td>\n",
              "      <td>BOS</td>\n",
              "      <td>ORD</td>\n",
              "      <td>867</td>\n",
              "      <td>6</td>\n",
              "      <td>15</td>\n",
              "      <td>0</td>\n",
              "      <td>NaN</td>\n",
              "      <td>0</td>\n",
              "      <td>0</td>\n",
              "      <td>0</td>\n",
              "      <td>0</td>\n",
              "      <td>0</td>\n",
              "      <td>0</td>\n",
              "    </tr>\n",
              "    <tr>\n",
              "      <th>2</th>\n",
              "      <td>2005</td>\n",
              "      <td>1</td>\n",
              "      <td>30</td>\n",
              "      <td>7</td>\n",
              "      <td>1603.0</td>\n",
              "      <td>1610</td>\n",
              "      <td>1741.0</td>\n",
              "      <td>1805</td>\n",
              "      <td>UA</td>\n",
              "      <td>541</td>\n",
              "      <td>N342UA</td>\n",
              "      <td>158.0</td>\n",
              "      <td>175</td>\n",
              "      <td>131.0</td>\n",
              "      <td>-24.0</td>\n",
              "      <td>-7.0</td>\n",
              "      <td>BOS</td>\n",
              "      <td>ORD</td>\n",
              "      <td>867</td>\n",
              "      <td>9</td>\n",
              "      <td>18</td>\n",
              "      <td>0</td>\n",
              "      <td>NaN</td>\n",
              "      <td>0</td>\n",
              "      <td>0</td>\n",
              "      <td>0</td>\n",
              "      <td>0</td>\n",
              "      <td>0</td>\n",
              "      <td>0</td>\n",
              "    </tr>\n",
              "    <tr>\n",
              "      <th>3</th>\n",
              "      <td>2005</td>\n",
              "      <td>1</td>\n",
              "      <td>31</td>\n",
              "      <td>1</td>\n",
              "      <td>1556.0</td>\n",
              "      <td>1605</td>\n",
              "      <td>1726.0</td>\n",
              "      <td>1759</td>\n",
              "      <td>UA</td>\n",
              "      <td>541</td>\n",
              "      <td>N326UA</td>\n",
              "      <td>150.0</td>\n",
              "      <td>174</td>\n",
              "      <td>129.0</td>\n",
              "      <td>-33.0</td>\n",
              "      <td>-9.0</td>\n",
              "      <td>BOS</td>\n",
              "      <td>ORD</td>\n",
              "      <td>867</td>\n",
              "      <td>11</td>\n",
              "      <td>10</td>\n",
              "      <td>0</td>\n",
              "      <td>NaN</td>\n",
              "      <td>0</td>\n",
              "      <td>0</td>\n",
              "      <td>0</td>\n",
              "      <td>0</td>\n",
              "      <td>0</td>\n",
              "      <td>0</td>\n",
              "    </tr>\n",
              "    <tr>\n",
              "      <th>4</th>\n",
              "      <td>2005</td>\n",
              "      <td>1</td>\n",
              "      <td>2</td>\n",
              "      <td>7</td>\n",
              "      <td>1934.0</td>\n",
              "      <td>1900</td>\n",
              "      <td>2235.0</td>\n",
              "      <td>2232</td>\n",
              "      <td>UA</td>\n",
              "      <td>542</td>\n",
              "      <td>N902UA</td>\n",
              "      <td>121.0</td>\n",
              "      <td>152</td>\n",
              "      <td>106.0</td>\n",
              "      <td>3.0</td>\n",
              "      <td>34.0</td>\n",
              "      <td>ORD</td>\n",
              "      <td>BOS</td>\n",
              "      <td>867</td>\n",
              "      <td>5</td>\n",
              "      <td>10</td>\n",
              "      <td>0</td>\n",
              "      <td>NaN</td>\n",
              "      <td>0</td>\n",
              "      <td>0</td>\n",
              "      <td>0</td>\n",
              "      <td>0</td>\n",
              "      <td>0</td>\n",
              "      <td>0</td>\n",
              "    </tr>\n",
              "  </tbody>\n",
              "</table>\n",
              "</div>"
            ],
            "text/plain": [
              "   Year  Month  DayofMonth  ...  NASDelay  SecurityDelay  LateAircraftDelay\n",
              "0  2005      1          28  ...         0              0                  0\n",
              "1  2005      1          29  ...         0              0                  0\n",
              "2  2005      1          30  ...         0              0                  0\n",
              "3  2005      1          31  ...         0              0                  0\n",
              "4  2005      1           2  ...         0              0                  0\n",
              "\n",
              "[5 rows x 29 columns]"
            ]
          },
          "metadata": {
            "tags": []
          },
          "execution_count": 9
        }
      ]
    },
    {
      "cell_type": "code",
      "metadata": {
        "colab": {
          "base_uri": "https://localhost:8080/",
          "height": 222
        },
        "id": "9kTPFNFxEwdg",
        "outputId": "9ecb4b6c-1740-4ed9-9988-2d7596de74d0"
      },
      "source": [
        "df_2006=pd.read_csv(\"2006.csv\")\n",
        "df_2006.head()"
      ],
      "execution_count": 10,
      "outputs": [
        {
          "output_type": "execute_result",
          "data": {
            "text/html": [
              "<div>\n",
              "<style scoped>\n",
              "    .dataframe tbody tr th:only-of-type {\n",
              "        vertical-align: middle;\n",
              "    }\n",
              "\n",
              "    .dataframe tbody tr th {\n",
              "        vertical-align: top;\n",
              "    }\n",
              "\n",
              "    .dataframe thead th {\n",
              "        text-align: right;\n",
              "    }\n",
              "</style>\n",
              "<table border=\"1\" class=\"dataframe\">\n",
              "  <thead>\n",
              "    <tr style=\"text-align: right;\">\n",
              "      <th></th>\n",
              "      <th>Year</th>\n",
              "      <th>Month</th>\n",
              "      <th>DayofMonth</th>\n",
              "      <th>DayOfWeek</th>\n",
              "      <th>DepTime</th>\n",
              "      <th>CRSDepTime</th>\n",
              "      <th>ArrTime</th>\n",
              "      <th>CRSArrTime</th>\n",
              "      <th>UniqueCarrier</th>\n",
              "      <th>FlightNum</th>\n",
              "      <th>TailNum</th>\n",
              "      <th>ActualElapsedTime</th>\n",
              "      <th>CRSElapsedTime</th>\n",
              "      <th>AirTime</th>\n",
              "      <th>ArrDelay</th>\n",
              "      <th>DepDelay</th>\n",
              "      <th>Origin</th>\n",
              "      <th>Dest</th>\n",
              "      <th>Distance</th>\n",
              "      <th>TaxiIn</th>\n",
              "      <th>TaxiOut</th>\n",
              "      <th>Cancelled</th>\n",
              "      <th>CancellationCode</th>\n",
              "      <th>Diverted</th>\n",
              "      <th>CarrierDelay</th>\n",
              "      <th>WeatherDelay</th>\n",
              "      <th>NASDelay</th>\n",
              "      <th>SecurityDelay</th>\n",
              "      <th>LateAircraftDelay</th>\n",
              "    </tr>\n",
              "  </thead>\n",
              "  <tbody>\n",
              "    <tr>\n",
              "      <th>0</th>\n",
              "      <td>2006</td>\n",
              "      <td>1</td>\n",
              "      <td>11</td>\n",
              "      <td>3</td>\n",
              "      <td>743.0</td>\n",
              "      <td>745</td>\n",
              "      <td>1024.0</td>\n",
              "      <td>1018</td>\n",
              "      <td>US</td>\n",
              "      <td>343</td>\n",
              "      <td>N657AW</td>\n",
              "      <td>281.0</td>\n",
              "      <td>273.0</td>\n",
              "      <td>223.0</td>\n",
              "      <td>6.0</td>\n",
              "      <td>-2.0</td>\n",
              "      <td>ATL</td>\n",
              "      <td>PHX</td>\n",
              "      <td>1587</td>\n",
              "      <td>45</td>\n",
              "      <td>13</td>\n",
              "      <td>0</td>\n",
              "      <td>NaN</td>\n",
              "      <td>0</td>\n",
              "      <td>0</td>\n",
              "      <td>0</td>\n",
              "      <td>0</td>\n",
              "      <td>0</td>\n",
              "      <td>0</td>\n",
              "    </tr>\n",
              "    <tr>\n",
              "      <th>1</th>\n",
              "      <td>2006</td>\n",
              "      <td>1</td>\n",
              "      <td>11</td>\n",
              "      <td>3</td>\n",
              "      <td>1053.0</td>\n",
              "      <td>1053</td>\n",
              "      <td>1313.0</td>\n",
              "      <td>1318</td>\n",
              "      <td>US</td>\n",
              "      <td>613</td>\n",
              "      <td>N834AW</td>\n",
              "      <td>260.0</td>\n",
              "      <td>265.0</td>\n",
              "      <td>214.0</td>\n",
              "      <td>-5.0</td>\n",
              "      <td>0.0</td>\n",
              "      <td>ATL</td>\n",
              "      <td>PHX</td>\n",
              "      <td>1587</td>\n",
              "      <td>27</td>\n",
              "      <td>19</td>\n",
              "      <td>0</td>\n",
              "      <td>NaN</td>\n",
              "      <td>0</td>\n",
              "      <td>0</td>\n",
              "      <td>0</td>\n",
              "      <td>0</td>\n",
              "      <td>0</td>\n",
              "      <td>0</td>\n",
              "    </tr>\n",
              "    <tr>\n",
              "      <th>2</th>\n",
              "      <td>2006</td>\n",
              "      <td>1</td>\n",
              "      <td>11</td>\n",
              "      <td>3</td>\n",
              "      <td>1915.0</td>\n",
              "      <td>1915</td>\n",
              "      <td>2110.0</td>\n",
              "      <td>2133</td>\n",
              "      <td>US</td>\n",
              "      <td>617</td>\n",
              "      <td>N605AW</td>\n",
              "      <td>235.0</td>\n",
              "      <td>258.0</td>\n",
              "      <td>220.0</td>\n",
              "      <td>-23.0</td>\n",
              "      <td>0.0</td>\n",
              "      <td>ATL</td>\n",
              "      <td>PHX</td>\n",
              "      <td>1587</td>\n",
              "      <td>4</td>\n",
              "      <td>11</td>\n",
              "      <td>0</td>\n",
              "      <td>NaN</td>\n",
              "      <td>0</td>\n",
              "      <td>0</td>\n",
              "      <td>0</td>\n",
              "      <td>0</td>\n",
              "      <td>0</td>\n",
              "      <td>0</td>\n",
              "    </tr>\n",
              "    <tr>\n",
              "      <th>3</th>\n",
              "      <td>2006</td>\n",
              "      <td>1</td>\n",
              "      <td>11</td>\n",
              "      <td>3</td>\n",
              "      <td>1753.0</td>\n",
              "      <td>1755</td>\n",
              "      <td>1925.0</td>\n",
              "      <td>1933</td>\n",
              "      <td>US</td>\n",
              "      <td>300</td>\n",
              "      <td>N312AW</td>\n",
              "      <td>152.0</td>\n",
              "      <td>158.0</td>\n",
              "      <td>126.0</td>\n",
              "      <td>-8.0</td>\n",
              "      <td>-2.0</td>\n",
              "      <td>AUS</td>\n",
              "      <td>PHX</td>\n",
              "      <td>872</td>\n",
              "      <td>16</td>\n",
              "      <td>10</td>\n",
              "      <td>0</td>\n",
              "      <td>NaN</td>\n",
              "      <td>0</td>\n",
              "      <td>0</td>\n",
              "      <td>0</td>\n",
              "      <td>0</td>\n",
              "      <td>0</td>\n",
              "      <td>0</td>\n",
              "    </tr>\n",
              "    <tr>\n",
              "      <th>4</th>\n",
              "      <td>2006</td>\n",
              "      <td>1</td>\n",
              "      <td>11</td>\n",
              "      <td>3</td>\n",
              "      <td>824.0</td>\n",
              "      <td>832</td>\n",
              "      <td>1015.0</td>\n",
              "      <td>1015</td>\n",
              "      <td>US</td>\n",
              "      <td>765</td>\n",
              "      <td>N309AW</td>\n",
              "      <td>171.0</td>\n",
              "      <td>163.0</td>\n",
              "      <td>132.0</td>\n",
              "      <td>0.0</td>\n",
              "      <td>-8.0</td>\n",
              "      <td>AUS</td>\n",
              "      <td>PHX</td>\n",
              "      <td>872</td>\n",
              "      <td>27</td>\n",
              "      <td>12</td>\n",
              "      <td>0</td>\n",
              "      <td>NaN</td>\n",
              "      <td>0</td>\n",
              "      <td>0</td>\n",
              "      <td>0</td>\n",
              "      <td>0</td>\n",
              "      <td>0</td>\n",
              "      <td>0</td>\n",
              "    </tr>\n",
              "  </tbody>\n",
              "</table>\n",
              "</div>"
            ],
            "text/plain": [
              "   Year  Month  DayofMonth  ...  NASDelay  SecurityDelay  LateAircraftDelay\n",
              "0  2006      1          11  ...         0              0                  0\n",
              "1  2006      1          11  ...         0              0                  0\n",
              "2  2006      1          11  ...         0              0                  0\n",
              "3  2006      1          11  ...         0              0                  0\n",
              "4  2006      1          11  ...         0              0                  0\n",
              "\n",
              "[5 rows x 29 columns]"
            ]
          },
          "metadata": {
            "tags": []
          },
          "execution_count": 10
        }
      ]
    },
    {
      "cell_type": "code",
      "metadata": {
        "colab": {
          "base_uri": "https://localhost:8080/",
          "height": 222
        },
        "id": "XA_75cEkEwo7",
        "outputId": "f9d261b0-5b82-471f-bb85-659f78a703d7"
      },
      "source": [
        "df_2007=pd.read_csv(\"2007.csv\")\n",
        "df_2007.head()"
      ],
      "execution_count": 11,
      "outputs": [
        {
          "output_type": "execute_result",
          "data": {
            "text/html": [
              "<div>\n",
              "<style scoped>\n",
              "    .dataframe tbody tr th:only-of-type {\n",
              "        vertical-align: middle;\n",
              "    }\n",
              "\n",
              "    .dataframe tbody tr th {\n",
              "        vertical-align: top;\n",
              "    }\n",
              "\n",
              "    .dataframe thead th {\n",
              "        text-align: right;\n",
              "    }\n",
              "</style>\n",
              "<table border=\"1\" class=\"dataframe\">\n",
              "  <thead>\n",
              "    <tr style=\"text-align: right;\">\n",
              "      <th></th>\n",
              "      <th>Year</th>\n",
              "      <th>Month</th>\n",
              "      <th>DayofMonth</th>\n",
              "      <th>DayOfWeek</th>\n",
              "      <th>DepTime</th>\n",
              "      <th>CRSDepTime</th>\n",
              "      <th>ArrTime</th>\n",
              "      <th>CRSArrTime</th>\n",
              "      <th>UniqueCarrier</th>\n",
              "      <th>FlightNum</th>\n",
              "      <th>TailNum</th>\n",
              "      <th>ActualElapsedTime</th>\n",
              "      <th>CRSElapsedTime</th>\n",
              "      <th>AirTime</th>\n",
              "      <th>ArrDelay</th>\n",
              "      <th>DepDelay</th>\n",
              "      <th>Origin</th>\n",
              "      <th>Dest</th>\n",
              "      <th>Distance</th>\n",
              "      <th>TaxiIn</th>\n",
              "      <th>TaxiOut</th>\n",
              "      <th>Cancelled</th>\n",
              "      <th>CancellationCode</th>\n",
              "      <th>Diverted</th>\n",
              "      <th>CarrierDelay</th>\n",
              "      <th>WeatherDelay</th>\n",
              "      <th>NASDelay</th>\n",
              "      <th>SecurityDelay</th>\n",
              "      <th>LateAircraftDelay</th>\n",
              "    </tr>\n",
              "  </thead>\n",
              "  <tbody>\n",
              "    <tr>\n",
              "      <th>0</th>\n",
              "      <td>2007</td>\n",
              "      <td>1</td>\n",
              "      <td>1</td>\n",
              "      <td>1</td>\n",
              "      <td>1232.0</td>\n",
              "      <td>1225</td>\n",
              "      <td>1341.0</td>\n",
              "      <td>1340</td>\n",
              "      <td>WN</td>\n",
              "      <td>2891</td>\n",
              "      <td>N351</td>\n",
              "      <td>69.0</td>\n",
              "      <td>75.0</td>\n",
              "      <td>54.0</td>\n",
              "      <td>1.0</td>\n",
              "      <td>7.0</td>\n",
              "      <td>SMF</td>\n",
              "      <td>ONT</td>\n",
              "      <td>389</td>\n",
              "      <td>4</td>\n",
              "      <td>11</td>\n",
              "      <td>0</td>\n",
              "      <td>NaN</td>\n",
              "      <td>0</td>\n",
              "      <td>0</td>\n",
              "      <td>0</td>\n",
              "      <td>0</td>\n",
              "      <td>0</td>\n",
              "      <td>0</td>\n",
              "    </tr>\n",
              "    <tr>\n",
              "      <th>1</th>\n",
              "      <td>2007</td>\n",
              "      <td>1</td>\n",
              "      <td>1</td>\n",
              "      <td>1</td>\n",
              "      <td>1918.0</td>\n",
              "      <td>1905</td>\n",
              "      <td>2043.0</td>\n",
              "      <td>2035</td>\n",
              "      <td>WN</td>\n",
              "      <td>462</td>\n",
              "      <td>N370</td>\n",
              "      <td>85.0</td>\n",
              "      <td>90.0</td>\n",
              "      <td>74.0</td>\n",
              "      <td>8.0</td>\n",
              "      <td>13.0</td>\n",
              "      <td>SMF</td>\n",
              "      <td>PDX</td>\n",
              "      <td>479</td>\n",
              "      <td>5</td>\n",
              "      <td>6</td>\n",
              "      <td>0</td>\n",
              "      <td>NaN</td>\n",
              "      <td>0</td>\n",
              "      <td>0</td>\n",
              "      <td>0</td>\n",
              "      <td>0</td>\n",
              "      <td>0</td>\n",
              "      <td>0</td>\n",
              "    </tr>\n",
              "    <tr>\n",
              "      <th>2</th>\n",
              "      <td>2007</td>\n",
              "      <td>1</td>\n",
              "      <td>1</td>\n",
              "      <td>1</td>\n",
              "      <td>2206.0</td>\n",
              "      <td>2130</td>\n",
              "      <td>2334.0</td>\n",
              "      <td>2300</td>\n",
              "      <td>WN</td>\n",
              "      <td>1229</td>\n",
              "      <td>N685</td>\n",
              "      <td>88.0</td>\n",
              "      <td>90.0</td>\n",
              "      <td>73.0</td>\n",
              "      <td>34.0</td>\n",
              "      <td>36.0</td>\n",
              "      <td>SMF</td>\n",
              "      <td>PDX</td>\n",
              "      <td>479</td>\n",
              "      <td>6</td>\n",
              "      <td>9</td>\n",
              "      <td>0</td>\n",
              "      <td>NaN</td>\n",
              "      <td>0</td>\n",
              "      <td>3</td>\n",
              "      <td>0</td>\n",
              "      <td>0</td>\n",
              "      <td>0</td>\n",
              "      <td>31</td>\n",
              "    </tr>\n",
              "    <tr>\n",
              "      <th>3</th>\n",
              "      <td>2007</td>\n",
              "      <td>1</td>\n",
              "      <td>1</td>\n",
              "      <td>1</td>\n",
              "      <td>1230.0</td>\n",
              "      <td>1200</td>\n",
              "      <td>1356.0</td>\n",
              "      <td>1330</td>\n",
              "      <td>WN</td>\n",
              "      <td>1355</td>\n",
              "      <td>N364</td>\n",
              "      <td>86.0</td>\n",
              "      <td>90.0</td>\n",
              "      <td>75.0</td>\n",
              "      <td>26.0</td>\n",
              "      <td>30.0</td>\n",
              "      <td>SMF</td>\n",
              "      <td>PDX</td>\n",
              "      <td>479</td>\n",
              "      <td>3</td>\n",
              "      <td>8</td>\n",
              "      <td>0</td>\n",
              "      <td>NaN</td>\n",
              "      <td>0</td>\n",
              "      <td>23</td>\n",
              "      <td>0</td>\n",
              "      <td>0</td>\n",
              "      <td>0</td>\n",
              "      <td>3</td>\n",
              "    </tr>\n",
              "    <tr>\n",
              "      <th>4</th>\n",
              "      <td>2007</td>\n",
              "      <td>1</td>\n",
              "      <td>1</td>\n",
              "      <td>1</td>\n",
              "      <td>831.0</td>\n",
              "      <td>830</td>\n",
              "      <td>957.0</td>\n",
              "      <td>1000</td>\n",
              "      <td>WN</td>\n",
              "      <td>2278</td>\n",
              "      <td>N480</td>\n",
              "      <td>86.0</td>\n",
              "      <td>90.0</td>\n",
              "      <td>74.0</td>\n",
              "      <td>-3.0</td>\n",
              "      <td>1.0</td>\n",
              "      <td>SMF</td>\n",
              "      <td>PDX</td>\n",
              "      <td>479</td>\n",
              "      <td>3</td>\n",
              "      <td>9</td>\n",
              "      <td>0</td>\n",
              "      <td>NaN</td>\n",
              "      <td>0</td>\n",
              "      <td>0</td>\n",
              "      <td>0</td>\n",
              "      <td>0</td>\n",
              "      <td>0</td>\n",
              "      <td>0</td>\n",
              "    </tr>\n",
              "  </tbody>\n",
              "</table>\n",
              "</div>"
            ],
            "text/plain": [
              "   Year  Month  DayofMonth  ...  NASDelay  SecurityDelay  LateAircraftDelay\n",
              "0  2007      1           1  ...         0              0                  0\n",
              "1  2007      1           1  ...         0              0                  0\n",
              "2  2007      1           1  ...         0              0                 31\n",
              "3  2007      1           1  ...         0              0                  3\n",
              "4  2007      1           1  ...         0              0                  0\n",
              "\n",
              "[5 rows x 29 columns]"
            ]
          },
          "metadata": {
            "tags": []
          },
          "execution_count": 11
        }
      ]
    },
    {
      "cell_type": "markdown",
      "metadata": {
        "id": "kfaB9zOkA_b2"
      },
      "source": [
        "#### Process - filter 2003 data to keep only data for Boston & Philadelphia"
      ]
    },
    {
      "cell_type": "code",
      "metadata": {
        "id": "1r0hd19VyCcE"
      },
      "source": [
        "# From 2003 dataframe select only flights with \"Origin\" OR \"Dest\" our 2 selected airports \"BOS\" OR \"PHL\" \n",
        "\n",
        "df_2003_select = df_2003.loc[(df_2003['Origin'] == 'PHL') | (df_2003['Origin'] == 'BOS') | (df_2003['Dest'] == 'PHL') | (df_2003['Dest'] == 'BOS')]"
      ],
      "execution_count": 50,
      "outputs": []
    },
    {
      "cell_type": "code",
      "metadata": {
        "colab": {
          "base_uri": "https://localhost:8080/",
          "height": 222
        },
        "id": "jzgZexvqyvGP",
        "outputId": "4f4a5150-8e4d-4d43-f20b-195e2988ba08"
      },
      "source": [
        "df_2003_select.head()"
      ],
      "execution_count": 51,
      "outputs": [
        {
          "output_type": "execute_result",
          "data": {
            "text/html": [
              "<div>\n",
              "<style scoped>\n",
              "    .dataframe tbody tr th:only-of-type {\n",
              "        vertical-align: middle;\n",
              "    }\n",
              "\n",
              "    .dataframe tbody tr th {\n",
              "        vertical-align: top;\n",
              "    }\n",
              "\n",
              "    .dataframe thead th {\n",
              "        text-align: right;\n",
              "    }\n",
              "</style>\n",
              "<table border=\"1\" class=\"dataframe\">\n",
              "  <thead>\n",
              "    <tr style=\"text-align: right;\">\n",
              "      <th></th>\n",
              "      <th>Year</th>\n",
              "      <th>Month</th>\n",
              "      <th>DayofMonth</th>\n",
              "      <th>DayOfWeek</th>\n",
              "      <th>DepTime</th>\n",
              "      <th>CRSDepTime</th>\n",
              "      <th>ArrTime</th>\n",
              "      <th>CRSArrTime</th>\n",
              "      <th>UniqueCarrier</th>\n",
              "      <th>FlightNum</th>\n",
              "      <th>TailNum</th>\n",
              "      <th>ActualElapsedTime</th>\n",
              "      <th>CRSElapsedTime</th>\n",
              "      <th>AirTime</th>\n",
              "      <th>ArrDelay</th>\n",
              "      <th>DepDelay</th>\n",
              "      <th>Origin</th>\n",
              "      <th>Dest</th>\n",
              "      <th>Distance</th>\n",
              "      <th>TaxiIn</th>\n",
              "      <th>TaxiOut</th>\n",
              "      <th>Cancelled</th>\n",
              "      <th>CancellationCode</th>\n",
              "      <th>Diverted</th>\n",
              "      <th>CarrierDelay</th>\n",
              "      <th>WeatherDelay</th>\n",
              "      <th>NASDelay</th>\n",
              "      <th>SecurityDelay</th>\n",
              "      <th>LateAircraftDelay</th>\n",
              "    </tr>\n",
              "  </thead>\n",
              "  <tbody>\n",
              "    <tr>\n",
              "      <th>9</th>\n",
              "      <td>2003</td>\n",
              "      <td>1</td>\n",
              "      <td>1</td>\n",
              "      <td>3</td>\n",
              "      <td>1713.0</td>\n",
              "      <td>1710</td>\n",
              "      <td>1851.0</td>\n",
              "      <td>1847</td>\n",
              "      <td>UA</td>\n",
              "      <td>1020</td>\n",
              "      <td>N567UA</td>\n",
              "      <td>98.0</td>\n",
              "      <td>97.0</td>\n",
              "      <td>62.0</td>\n",
              "      <td>4.0</td>\n",
              "      <td>3.0</td>\n",
              "      <td>IAD</td>\n",
              "      <td>BOS</td>\n",
              "      <td>413</td>\n",
              "      <td>7</td>\n",
              "      <td>29</td>\n",
              "      <td>0</td>\n",
              "      <td>NaN</td>\n",
              "      <td>0</td>\n",
              "      <td>NaN</td>\n",
              "      <td>NaN</td>\n",
              "      <td>NaN</td>\n",
              "      <td>NaN</td>\n",
              "      <td>NaN</td>\n",
              "    </tr>\n",
              "    <tr>\n",
              "      <th>10</th>\n",
              "      <td>2003</td>\n",
              "      <td>1</td>\n",
              "      <td>2</td>\n",
              "      <td>4</td>\n",
              "      <td>1706.0</td>\n",
              "      <td>1710</td>\n",
              "      <td>1824.0</td>\n",
              "      <td>1847</td>\n",
              "      <td>UA</td>\n",
              "      <td>1020</td>\n",
              "      <td>N561UA</td>\n",
              "      <td>78.0</td>\n",
              "      <td>97.0</td>\n",
              "      <td>59.0</td>\n",
              "      <td>-23.0</td>\n",
              "      <td>-4.0</td>\n",
              "      <td>IAD</td>\n",
              "      <td>BOS</td>\n",
              "      <td>413</td>\n",
              "      <td>7</td>\n",
              "      <td>12</td>\n",
              "      <td>0</td>\n",
              "      <td>NaN</td>\n",
              "      <td>0</td>\n",
              "      <td>NaN</td>\n",
              "      <td>NaN</td>\n",
              "      <td>NaN</td>\n",
              "      <td>NaN</td>\n",
              "      <td>NaN</td>\n",
              "    </tr>\n",
              "    <tr>\n",
              "      <th>11</th>\n",
              "      <td>2003</td>\n",
              "      <td>1</td>\n",
              "      <td>3</td>\n",
              "      <td>5</td>\n",
              "      <td>1707.0</td>\n",
              "      <td>1710</td>\n",
              "      <td>1828.0</td>\n",
              "      <td>1847</td>\n",
              "      <td>UA</td>\n",
              "      <td>1020</td>\n",
              "      <td>N554UA</td>\n",
              "      <td>81.0</td>\n",
              "      <td>97.0</td>\n",
              "      <td>58.0</td>\n",
              "      <td>-19.0</td>\n",
              "      <td>-3.0</td>\n",
              "      <td>IAD</td>\n",
              "      <td>BOS</td>\n",
              "      <td>413</td>\n",
              "      <td>8</td>\n",
              "      <td>15</td>\n",
              "      <td>0</td>\n",
              "      <td>NaN</td>\n",
              "      <td>0</td>\n",
              "      <td>NaN</td>\n",
              "      <td>NaN</td>\n",
              "      <td>NaN</td>\n",
              "      <td>NaN</td>\n",
              "      <td>NaN</td>\n",
              "    </tr>\n",
              "    <tr>\n",
              "      <th>12</th>\n",
              "      <td>2003</td>\n",
              "      <td>1</td>\n",
              "      <td>4</td>\n",
              "      <td>6</td>\n",
              "      <td>1710.0</td>\n",
              "      <td>1710</td>\n",
              "      <td>1835.0</td>\n",
              "      <td>1847</td>\n",
              "      <td>UA</td>\n",
              "      <td>1020</td>\n",
              "      <td>N535UA</td>\n",
              "      <td>85.0</td>\n",
              "      <td>97.0</td>\n",
              "      <td>61.0</td>\n",
              "      <td>-12.0</td>\n",
              "      <td>0.0</td>\n",
              "      <td>IAD</td>\n",
              "      <td>BOS</td>\n",
              "      <td>413</td>\n",
              "      <td>8</td>\n",
              "      <td>16</td>\n",
              "      <td>0</td>\n",
              "      <td>NaN</td>\n",
              "      <td>0</td>\n",
              "      <td>NaN</td>\n",
              "      <td>NaN</td>\n",
              "      <td>NaN</td>\n",
              "      <td>NaN</td>\n",
              "      <td>NaN</td>\n",
              "    </tr>\n",
              "    <tr>\n",
              "      <th>13</th>\n",
              "      <td>2003</td>\n",
              "      <td>1</td>\n",
              "      <td>5</td>\n",
              "      <td>7</td>\n",
              "      <td>1832.0</td>\n",
              "      <td>1710</td>\n",
              "      <td>1951.0</td>\n",
              "      <td>1847</td>\n",
              "      <td>UA</td>\n",
              "      <td>1020</td>\n",
              "      <td>N571UA</td>\n",
              "      <td>79.0</td>\n",
              "      <td>97.0</td>\n",
              "      <td>57.0</td>\n",
              "      <td>64.0</td>\n",
              "      <td>82.0</td>\n",
              "      <td>IAD</td>\n",
              "      <td>BOS</td>\n",
              "      <td>413</td>\n",
              "      <td>7</td>\n",
              "      <td>15</td>\n",
              "      <td>0</td>\n",
              "      <td>NaN</td>\n",
              "      <td>0</td>\n",
              "      <td>NaN</td>\n",
              "      <td>NaN</td>\n",
              "      <td>NaN</td>\n",
              "      <td>NaN</td>\n",
              "      <td>NaN</td>\n",
              "    </tr>\n",
              "  </tbody>\n",
              "</table>\n",
              "</div>"
            ],
            "text/plain": [
              "    Year  Month  DayofMonth  ...  NASDelay  SecurityDelay  LateAircraftDelay\n",
              "9   2003      1           1  ...       NaN            NaN                NaN\n",
              "10  2003      1           2  ...       NaN            NaN                NaN\n",
              "11  2003      1           3  ...       NaN            NaN                NaN\n",
              "12  2003      1           4  ...       NaN            NaN                NaN\n",
              "13  2003      1           5  ...       NaN            NaN                NaN\n",
              "\n",
              "[5 rows x 29 columns]"
            ]
          },
          "metadata": {
            "tags": []
          },
          "execution_count": 51
        }
      ]
    },
    {
      "cell_type": "code",
      "metadata": {
        "id": "PU6qmr5f8XjH"
      },
      "source": [
        "# Create a dataframe containing only Departures ('Origin') from Boston & Philadelphia for 2003\n",
        "depart_2003 = df_2003.loc[(df_2003['Origin'] == 'PHL') | (df_2003['Origin'] == 'BOS')]\n",
        "\n",
        "# Create a dataframe containing only Arrivals ('Dest') to Boston & Philadelphia for 2003\n",
        "arrival_2003 = df_2003.loc[(df_2003['Dest'] == 'PHL') | (df_2003['Dest'] == 'BOS')]"
      ],
      "execution_count": 21,
      "outputs": []
    },
    {
      "cell_type": "code",
      "metadata": {
        "colab": {
          "base_uri": "https://localhost:8080/"
        },
        "id": "_PtZlDsD8w-3",
        "outputId": "2b358a50-c24f-40ed-bf95-b7d3bfae10bb"
      },
      "source": [
        "# Number of departures (count of rows) per Airport (2003)\n",
        "depart.groupby('Origin').size()"
      ],
      "execution_count": 13,
      "outputs": [
        {
          "output_type": "execute_result",
          "data": {
            "text/plain": [
              "Origin\n",
              "BOS    115460\n",
              "PHL    108742\n",
              "dtype: int64"
            ]
          },
          "metadata": {
            "tags": []
          },
          "execution_count": 13
        }
      ]
    },
    {
      "cell_type": "code",
      "metadata": {
        "colab": {
          "base_uri": "https://localhost:8080/"
        },
        "id": "MjPNWgRY9I0V",
        "outputId": "7e58d2ec-5238-4f12-82bf-164d6d6369d4"
      },
      "source": [
        "# Number of arrivals (count of rows) per Airport (2003)\n",
        "arrival.groupby('Dest').size()"
      ],
      "execution_count": 14,
      "outputs": [
        {
          "output_type": "execute_result",
          "data": {
            "text/plain": [
              "Dest\n",
              "BOS    115474\n",
              "PHL    108736\n",
              "dtype: int64"
            ]
          },
          "metadata": {
            "tags": []
          },
          "execution_count": 14
        }
      ]
    },
    {
      "cell_type": "markdown",
      "metadata": {
        "id": "zouhE-a-BG1u"
      },
      "source": [
        "#### Process - Filter 2004 data"
      ]
    },
    {
      "cell_type": "code",
      "metadata": {
        "id": "bdWR5ugB7_EQ"
      },
      "source": [
        "# Create a \"depart_2004\" dataframe containing only Departures ('Origin') from Boston & Philadelphia for 2004\n",
        "depart_2004 = df_2004.loc[(df_2004['Origin'] == 'PHL') | (df_2004['Origin'] == 'BOS')]\n",
        "\n",
        "# Create am \"arrival_2004\" dataframe containing only Arrivals ('Dest') to Boston & Philadelphia for 2004\n",
        "arrival_2004 = df_2004.loc[(df_2004['Dest'] == 'PHL') | (df_2004['Dest'] == 'BOS')]"
      ],
      "execution_count": 15,
      "outputs": []
    },
    {
      "cell_type": "markdown",
      "metadata": {
        "id": "1z2RtfFIM9VW"
      },
      "source": [
        "#### Process - Filter 2005 data"
      ]
    },
    {
      "cell_type": "code",
      "metadata": {
        "id": "isxRAoLGM9hX"
      },
      "source": [
        "# Create a \"depart_2005\" dataframe containing only Departures ('Origin') from Boston & Philadelphia for 2005\n",
        "depart_2005 = df_2005.loc[(df_2005['Origin'] == 'PHL') | (df_2005['Origin'] == 'BOS')]\n",
        "\n",
        "# Create am \"arrival_2005\" dataframe containing only Arrivals ('Dest') to Boston & Philadelphia for 2005\n",
        "arrival_2005 = df_2005.loc[(df_2005['Dest'] == 'PHL') | (df_2005['Dest'] == 'BOS')]"
      ],
      "execution_count": 16,
      "outputs": []
    },
    {
      "cell_type": "markdown",
      "metadata": {
        "id": "_6LcZoHlNWkj"
      },
      "source": [
        "#### Process - Filter 2006 data"
      ]
    },
    {
      "cell_type": "code",
      "metadata": {
        "id": "o8_yOmLSM9r5"
      },
      "source": [
        "# Create a \"depart_2006\" dataframe containing only Departures ('Origin') from Boston & Philadelphia for 2006\n",
        "depart_2006 = df_2006.loc[(df_2006['Origin'] == 'PHL') | (df_2006['Origin'] == 'BOS')]\n",
        "\n",
        "# Create am \"arrival_2006\" dataframe containing only Arrivals ('Dest') to Boston & Philadelphia for 2006\n",
        "arrival_2006 = df_2006.loc[(df_2006['Dest'] == 'PHL') | (df_2006['Dest'] == 'BOS')]"
      ],
      "execution_count": 17,
      "outputs": []
    },
    {
      "cell_type": "markdown",
      "metadata": {
        "id": "6mBRG5GJEl4G"
      },
      "source": [
        "Process - Filter 2007 data"
      ]
    },
    {
      "cell_type": "code",
      "metadata": {
        "id": "faQQpS8KEmes"
      },
      "source": [
        "# Create a \"depart_2007\" dataframe containing only Departures ('Origin') from Boston & Philadelphia for 2007\n",
        "depart_2007 = df_2007.loc[(df_2007['Origin'] == 'PHL') | (df_2007['Origin'] == 'BOS')]\n",
        "\n",
        "# Create am \"arrival_2005\" dataframe containing only Arrivals ('Dest') to Boston & Philadelphia for 2007\n",
        "arrival_2007 = df_2007.loc[(df_2007['Dest'] == 'PHL') | (df_2007['Dest'] == 'BOS')]"
      ],
      "execution_count": 18,
      "outputs": []
    },
    {
      "cell_type": "markdown",
      "metadata": {
        "id": "cb7ROOVFEX82"
      },
      "source": [
        "#### Combine data from all 5 years (2003 - 2007)"
      ]
    },
    {
      "cell_type": "code",
      "metadata": {
        "colab": {
          "base_uri": "https://localhost:8080/"
        },
        "id": "9OYr_ieGBLdH",
        "outputId": "6b9f0f5e-3979-4705-d457-bb70bb7827fd"
      },
      "source": [
        "# Append \"depart\" and \"arrival\" dataframes (initially containing 2003 only data) with 2004 data\n",
        "\n",
        "depart34=depart_2003.append(depart_2004, ignore_index = True)\n",
        "\n",
        "arrival34=arrival_2003.append(arrival_2004, ignore_index = True)\n",
        "\n",
        "print(depart34.groupby('Origin').size())\n",
        "print(arrival34.groupby('Dest').size())"
      ],
      "execution_count": 23,
      "outputs": [
        {
          "output_type": "stream",
          "text": [
            "Origin\n",
            "BOS    247799\n",
            "PHL    230463\n",
            "dtype: int64\n",
            "Dest\n",
            "BOS    247840\n",
            "PHL    230491\n",
            "dtype: int64\n"
          ],
          "name": "stdout"
        }
      ]
    },
    {
      "cell_type": "code",
      "metadata": {
        "colab": {
          "base_uri": "https://localhost:8080/"
        },
        "id": "TUuvKvgtLnjm",
        "outputId": "62ec75d9-484e-4035-fce9-8934a522e354"
      },
      "source": [
        "# Append \"depart\" and \"arrival\" dataframes with 2005, 2006, 2007 data as well\n",
        "\n",
        "depart345 = depart34.append(depart_2005, ignore_index = True)\n",
        "\n",
        "arrival345=arrival34.append(arrival_2005, ignore_index = True)\n",
        "\n",
        "print(depart345.groupby('Origin').size())\n",
        "print(arrival345.groupby('Dest').size())"
      ],
      "execution_count": 24,
      "outputs": [
        {
          "output_type": "stream",
          "text": [
            "Origin\n",
            "BOS    375805\n",
            "PHL    356892\n",
            "dtype: int64\n",
            "Dest\n",
            "BOS    375833\n",
            "PHL    356888\n",
            "dtype: int64\n"
          ],
          "name": "stdout"
        }
      ]
    },
    {
      "cell_type": "code",
      "metadata": {
        "colab": {
          "base_uri": "https://localhost:8080/"
        },
        "id": "ef47DDzNZIdQ",
        "outputId": "189799b7-0eec-4cec-c522-7a16e5e8212f"
      },
      "source": [
        "# Append \"depart\" and \"arrival\" dataframes with 2006\n",
        "\n",
        "depart3456 = depart345.append(depart_2006, ignore_index = True)\n",
        "\n",
        "arrival3456 = arrival345.append(arrival_2006, ignore_index = True)\n",
        "\n",
        "print(depart3456.groupby('Origin').size())\n",
        "print(arrival3456.groupby('Dest').size())"
      ],
      "execution_count": 25,
      "outputs": [
        {
          "output_type": "stream",
          "text": [
            "Origin\n",
            "BOS    506855\n",
            "PHL    465205\n",
            "dtype: int64\n",
            "Dest\n",
            "BOS    506863\n",
            "PHL    465195\n",
            "dtype: int64\n"
          ],
          "name": "stdout"
        }
      ]
    },
    {
      "cell_type": "code",
      "metadata": {
        "colab": {
          "base_uri": "https://localhost:8080/"
        },
        "id": "R_K1jQ1mZIvb",
        "outputId": "cf3ad174-6da6-4158-b7ec-3bd4f77bc3bf"
      },
      "source": [
        "# Append \"depart\" and \"arrival\" dataframes with 2007 data as well\n",
        "\n",
        "depart = depart3456.append(depart_2007, ignore_index = True)\n",
        "\n",
        "arrival=arrival3456.append(arrival_2007, ignore_index = True)\n",
        "\n",
        "print(depart.groupby('Origin').size())\n",
        "print(arrival.groupby('Dest').size())"
      ],
      "execution_count": 27,
      "outputs": [
        {
          "output_type": "stream",
          "text": [
            "Origin\n",
            "BOS    635175\n",
            "PHL    569268\n",
            "dtype: int64\n",
            "Dest\n",
            "BOS    635148\n",
            "PHL    569251\n",
            "dtype: int64\n"
          ],
          "name": "stdout"
        }
      ]
    },
    {
      "cell_type": "code",
      "metadata": {
        "id": "xdmrQitdZI5z"
      },
      "source": [
        "depart.to_csv('departures_data.csv')"
      ],
      "execution_count": 30,
      "outputs": []
    },
    {
      "cell_type": "code",
      "metadata": {
        "id": "NrAUSb7HZJIO"
      },
      "source": [
        "arrival.to_csv('arrivals_data.csv')"
      ],
      "execution_count": 31,
      "outputs": []
    },
    {
      "cell_type": "code",
      "metadata": {
        "colab": {
          "base_uri": "https://localhost:8080/",
          "height": 17
        },
        "id": "W91UWSZm1rLG",
        "outputId": "bbdb5383-f98b-4176-960d-e3606bb1d7a9"
      },
      "source": [
        "from google.colab import files\n",
        "files.download('departures_data.csv')\n",
        "files.download('arrivals_data.csv')"
      ],
      "execution_count": 33,
      "outputs": [
        {
          "output_type": "display_data",
          "data": {
            "application/javascript": [
              "\n",
              "    async function download(id, filename, size) {\n",
              "      if (!google.colab.kernel.accessAllowed) {\n",
              "        return;\n",
              "      }\n",
              "      const div = document.createElement('div');\n",
              "      const label = document.createElement('label');\n",
              "      label.textContent = `Downloading \"${filename}\": `;\n",
              "      div.appendChild(label);\n",
              "      const progress = document.createElement('progress');\n",
              "      progress.max = size;\n",
              "      div.appendChild(progress);\n",
              "      document.body.appendChild(div);\n",
              "\n",
              "      const buffers = [];\n",
              "      let downloaded = 0;\n",
              "\n",
              "      const channel = await google.colab.kernel.comms.open(id);\n",
              "      // Send a message to notify the kernel that we're ready.\n",
              "      channel.send({})\n",
              "\n",
              "      for await (const message of channel.messages) {\n",
              "        // Send a message to notify the kernel that we're ready.\n",
              "        channel.send({})\n",
              "        if (message.buffers) {\n",
              "          for (const buffer of message.buffers) {\n",
              "            buffers.push(buffer);\n",
              "            downloaded += buffer.byteLength;\n",
              "            progress.value = downloaded;\n",
              "          }\n",
              "        }\n",
              "      }\n",
              "      const blob = new Blob(buffers, {type: 'application/binary'});\n",
              "      const a = document.createElement('a');\n",
              "      a.href = window.URL.createObjectURL(blob);\n",
              "      a.download = filename;\n",
              "      div.appendChild(a);\n",
              "      a.click();\n",
              "      div.remove();\n",
              "    }\n",
              "  "
            ],
            "text/plain": [
              "<IPython.core.display.Javascript object>"
            ]
          },
          "metadata": {
            "tags": []
          }
        },
        {
          "output_type": "display_data",
          "data": {
            "application/javascript": [
              "download(\"download_a923f845-70f3-4ec5-9940-1d3615d8bb6d\", \"departures_data.csv\", 149338577)"
            ],
            "text/plain": [
              "<IPython.core.display.Javascript object>"
            ]
          },
          "metadata": {
            "tags": []
          }
        }
      ]
    }
  ]
}