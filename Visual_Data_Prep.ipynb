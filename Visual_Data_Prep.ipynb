{
  "nbformat": 4,
  "nbformat_minor": 0,
  "metadata": {
    "colab": {
      "name": "Visual_Data_Prep.ipynb",
      "provenance": [],
      "authorship_tag": "ABX9TyPKklposIXgskS1w/1DJU4N",
      "include_colab_link": true
    },
    "kernelspec": {
      "name": "python3",
      "display_name": "Python 3"
    },
    "language_info": {
      "name": "python"
    }
  },
  "cells": [
    {
      "cell_type": "markdown",
      "metadata": {
        "id": "view-in-github",
        "colab_type": "text"
      },
      "source": [
        "<a href=\"https://colab.research.google.com/github/katdask/Data_Visualization/blob/main/Visual_Data_Prep.ipynb\" target=\"_parent\"><img src=\"https://colab.research.google.com/assets/colab-badge.svg\" alt=\"Open In Colab\"/></a>"
      ]
    },
    {
      "cell_type": "code",
      "metadata": {
        "id": "f_XKBZiGSa5i"
      },
      "source": [
        "import pandas as pd\n",
        "import numpy as np\n",
        "import os"
      ],
      "execution_count": 1,
      "outputs": []
    },
    {
      "cell_type": "code",
      "metadata": {
        "id": "kemfQOImXkPX",
        "colab": {
          "base_uri": "https://localhost:8080/"
        },
        "outputId": "02d09a1d-e31e-47e9-e07e-36144be41f9d"
      },
      "source": [
        "from google.colab import drive\n",
        "drive.mount('/content/drive')"
      ],
      "execution_count": 2,
      "outputs": [
        {
          "output_type": "stream",
          "text": [
            "Mounted at /content/drive\n"
          ],
          "name": "stdout"
        }
      ]
    },
    {
      "cell_type": "code",
      "metadata": {
        "colab": {
          "base_uri": "https://localhost:8080/"
        },
        "id": "hiIzEl30tdYB",
        "outputId": "92dbc4ba-316f-4635-db38-946d8fa5a4e1"
      },
      "source": [
        "!unzip -u \"/content/drive/My Drive/Airports/2003.zip\" -d \"/content/drive/My Drive/Airports\""
      ],
      "execution_count": 3,
      "outputs": [
        {
          "output_type": "stream",
          "text": [
            "Archive:  /content/drive/My Drive/Airports/2003.zip\n",
            "  inflating: /content/drive/My Drive/Airports/2003.csv  \n"
          ],
          "name": "stdout"
        }
      ]
    },
    {
      "cell_type": "code",
      "metadata": {
        "colab": {
          "base_uri": "https://localhost:8080/"
        },
        "id": "j_pFs3PS6xst",
        "outputId": "120d178a-319e-4e54-d8f0-4031dc33122d"
      },
      "source": [
        "!unzip -u \"/content/drive/My Drive/Airports/2004.zip\" -d \"/content/drive/My Drive/Airports\""
      ],
      "execution_count": 25,
      "outputs": [
        {
          "output_type": "stream",
          "text": [
            "Archive:  /content/drive/My Drive/Airports/2004.zip\n",
            "  inflating: /content/drive/My Drive/Airports/2004.csv  \n"
          ],
          "name": "stdout"
        }
      ]
    },
    {
      "cell_type": "code",
      "metadata": {
        "id": "xnbE08y4tdUb",
        "colab": {
          "base_uri": "https://localhost:8080/"
        },
        "outputId": "8c06b2c1-c606-4c19-a986-912bccb5132d"
      },
      "source": [
        "%cd /content/drive/MyDrive/Airports/"
      ],
      "execution_count": 4,
      "outputs": [
        {
          "output_type": "stream",
          "text": [
            "/content/drive/MyDrive/Airports\n"
          ],
          "name": "stdout"
        }
      ]
    },
    {
      "cell_type": "code",
      "metadata": {
        "colab": {
          "base_uri": "https://localhost:8080/",
          "height": 257
        },
        "id": "79tvdvELyCVX",
        "outputId": "f7c67d4f-4cc6-4c76-8698-40c9f96b2cfe"
      },
      "source": [
        "df_2003=pd.read_csv(\"2003.csv\")\n",
        "df_2003.head()"
      ],
      "execution_count": 5,
      "outputs": [
        {
          "output_type": "stream",
          "text": [
            "/usr/local/lib/python3.7/dist-packages/IPython/core/interactiveshell.py:2718: DtypeWarning: Columns (22) have mixed types.Specify dtype option on import or set low_memory=False.\n",
            "  interactivity=interactivity, compiler=compiler, result=result)\n"
          ],
          "name": "stderr"
        },
        {
          "output_type": "execute_result",
          "data": {
            "text/html": [
              "<div>\n",
              "<style scoped>\n",
              "    .dataframe tbody tr th:only-of-type {\n",
              "        vertical-align: middle;\n",
              "    }\n",
              "\n",
              "    .dataframe tbody tr th {\n",
              "        vertical-align: top;\n",
              "    }\n",
              "\n",
              "    .dataframe thead th {\n",
              "        text-align: right;\n",
              "    }\n",
              "</style>\n",
              "<table border=\"1\" class=\"dataframe\">\n",
              "  <thead>\n",
              "    <tr style=\"text-align: right;\">\n",
              "      <th></th>\n",
              "      <th>Year</th>\n",
              "      <th>Month</th>\n",
              "      <th>DayofMonth</th>\n",
              "      <th>DayOfWeek</th>\n",
              "      <th>DepTime</th>\n",
              "      <th>CRSDepTime</th>\n",
              "      <th>ArrTime</th>\n",
              "      <th>CRSArrTime</th>\n",
              "      <th>UniqueCarrier</th>\n",
              "      <th>FlightNum</th>\n",
              "      <th>TailNum</th>\n",
              "      <th>ActualElapsedTime</th>\n",
              "      <th>CRSElapsedTime</th>\n",
              "      <th>AirTime</th>\n",
              "      <th>ArrDelay</th>\n",
              "      <th>DepDelay</th>\n",
              "      <th>Origin</th>\n",
              "      <th>Dest</th>\n",
              "      <th>Distance</th>\n",
              "      <th>TaxiIn</th>\n",
              "      <th>TaxiOut</th>\n",
              "      <th>Cancelled</th>\n",
              "      <th>CancellationCode</th>\n",
              "      <th>Diverted</th>\n",
              "      <th>CarrierDelay</th>\n",
              "      <th>WeatherDelay</th>\n",
              "      <th>NASDelay</th>\n",
              "      <th>SecurityDelay</th>\n",
              "      <th>LateAircraftDelay</th>\n",
              "    </tr>\n",
              "  </thead>\n",
              "  <tbody>\n",
              "    <tr>\n",
              "      <th>0</th>\n",
              "      <td>2003</td>\n",
              "      <td>1</td>\n",
              "      <td>29</td>\n",
              "      <td>3</td>\n",
              "      <td>1651.0</td>\n",
              "      <td>1655</td>\n",
              "      <td>1912.0</td>\n",
              "      <td>1913</td>\n",
              "      <td>UA</td>\n",
              "      <td>1017</td>\n",
              "      <td>N202UA</td>\n",
              "      <td>141.0</td>\n",
              "      <td>138.0</td>\n",
              "      <td>119.0</td>\n",
              "      <td>-1.0</td>\n",
              "      <td>-4.0</td>\n",
              "      <td>ORD</td>\n",
              "      <td>MSY</td>\n",
              "      <td>837</td>\n",
              "      <td>5</td>\n",
              "      <td>17</td>\n",
              "      <td>0</td>\n",
              "      <td>NaN</td>\n",
              "      <td>0</td>\n",
              "      <td>NaN</td>\n",
              "      <td>NaN</td>\n",
              "      <td>NaN</td>\n",
              "      <td>NaN</td>\n",
              "      <td>NaN</td>\n",
              "    </tr>\n",
              "    <tr>\n",
              "      <th>1</th>\n",
              "      <td>2003</td>\n",
              "      <td>1</td>\n",
              "      <td>30</td>\n",
              "      <td>4</td>\n",
              "      <td>1654.0</td>\n",
              "      <td>1655</td>\n",
              "      <td>1910.0</td>\n",
              "      <td>1913</td>\n",
              "      <td>UA</td>\n",
              "      <td>1017</td>\n",
              "      <td>N311UA</td>\n",
              "      <td>136.0</td>\n",
              "      <td>138.0</td>\n",
              "      <td>108.0</td>\n",
              "      <td>-3.0</td>\n",
              "      <td>-1.0</td>\n",
              "      <td>ORD</td>\n",
              "      <td>MSY</td>\n",
              "      <td>837</td>\n",
              "      <td>2</td>\n",
              "      <td>26</td>\n",
              "      <td>0</td>\n",
              "      <td>NaN</td>\n",
              "      <td>0</td>\n",
              "      <td>NaN</td>\n",
              "      <td>NaN</td>\n",
              "      <td>NaN</td>\n",
              "      <td>NaN</td>\n",
              "      <td>NaN</td>\n",
              "    </tr>\n",
              "    <tr>\n",
              "      <th>2</th>\n",
              "      <td>2003</td>\n",
              "      <td>1</td>\n",
              "      <td>31</td>\n",
              "      <td>5</td>\n",
              "      <td>1724.0</td>\n",
              "      <td>1655</td>\n",
              "      <td>1936.0</td>\n",
              "      <td>1913</td>\n",
              "      <td>UA</td>\n",
              "      <td>1017</td>\n",
              "      <td>N317UA</td>\n",
              "      <td>132.0</td>\n",
              "      <td>138.0</td>\n",
              "      <td>110.0</td>\n",
              "      <td>23.0</td>\n",
              "      <td>29.0</td>\n",
              "      <td>ORD</td>\n",
              "      <td>MSY</td>\n",
              "      <td>837</td>\n",
              "      <td>5</td>\n",
              "      <td>17</td>\n",
              "      <td>0</td>\n",
              "      <td>NaN</td>\n",
              "      <td>0</td>\n",
              "      <td>NaN</td>\n",
              "      <td>NaN</td>\n",
              "      <td>NaN</td>\n",
              "      <td>NaN</td>\n",
              "      <td>NaN</td>\n",
              "    </tr>\n",
              "    <tr>\n",
              "      <th>3</th>\n",
              "      <td>2003</td>\n",
              "      <td>1</td>\n",
              "      <td>1</td>\n",
              "      <td>3</td>\n",
              "      <td>1033.0</td>\n",
              "      <td>1035</td>\n",
              "      <td>1625.0</td>\n",
              "      <td>1634</td>\n",
              "      <td>UA</td>\n",
              "      <td>1018</td>\n",
              "      <td>N409UA</td>\n",
              "      <td>232.0</td>\n",
              "      <td>239.0</td>\n",
              "      <td>215.0</td>\n",
              "      <td>-9.0</td>\n",
              "      <td>-2.0</td>\n",
              "      <td>OAK</td>\n",
              "      <td>ORD</td>\n",
              "      <td>1835</td>\n",
              "      <td>6</td>\n",
              "      <td>11</td>\n",
              "      <td>0</td>\n",
              "      <td>NaN</td>\n",
              "      <td>0</td>\n",
              "      <td>NaN</td>\n",
              "      <td>NaN</td>\n",
              "      <td>NaN</td>\n",
              "      <td>NaN</td>\n",
              "      <td>NaN</td>\n",
              "    </tr>\n",
              "    <tr>\n",
              "      <th>4</th>\n",
              "      <td>2003</td>\n",
              "      <td>1</td>\n",
              "      <td>2</td>\n",
              "      <td>4</td>\n",
              "      <td>1053.0</td>\n",
              "      <td>1035</td>\n",
              "      <td>1726.0</td>\n",
              "      <td>1634</td>\n",
              "      <td>UA</td>\n",
              "      <td>1018</td>\n",
              "      <td>N496UA</td>\n",
              "      <td>273.0</td>\n",
              "      <td>239.0</td>\n",
              "      <td>214.0</td>\n",
              "      <td>52.0</td>\n",
              "      <td>18.0</td>\n",
              "      <td>OAK</td>\n",
              "      <td>ORD</td>\n",
              "      <td>1835</td>\n",
              "      <td>13</td>\n",
              "      <td>46</td>\n",
              "      <td>0</td>\n",
              "      <td>NaN</td>\n",
              "      <td>0</td>\n",
              "      <td>NaN</td>\n",
              "      <td>NaN</td>\n",
              "      <td>NaN</td>\n",
              "      <td>NaN</td>\n",
              "      <td>NaN</td>\n",
              "    </tr>\n",
              "  </tbody>\n",
              "</table>\n",
              "</div>"
            ],
            "text/plain": [
              "   Year  Month  DayofMonth  ...  NASDelay  SecurityDelay  LateAircraftDelay\n",
              "0  2003      1          29  ...       NaN            NaN                NaN\n",
              "1  2003      1          30  ...       NaN            NaN                NaN\n",
              "2  2003      1          31  ...       NaN            NaN                NaN\n",
              "3  2003      1           1  ...       NaN            NaN                NaN\n",
              "4  2003      1           2  ...       NaN            NaN                NaN\n",
              "\n",
              "[5 rows x 29 columns]"
            ]
          },
          "metadata": {
            "tags": []
          },
          "execution_count": 5
        }
      ]
    },
    {
      "cell_type": "code",
      "metadata": {
        "colab": {
          "base_uri": "https://localhost:8080/",
          "height": 222
        },
        "id": "dx-yYSBj7EFU",
        "outputId": "13422858-76a3-4fa2-ec4a-f35da99fbf5a"
      },
      "source": [
        "df_2004=pd.read_csv(\"2004.csv\")\n",
        "df_2004.head()"
      ],
      "execution_count": 28,
      "outputs": [
        {
          "output_type": "execute_result",
          "data": {
            "text/html": [
              "<div>\n",
              "<style scoped>\n",
              "    .dataframe tbody tr th:only-of-type {\n",
              "        vertical-align: middle;\n",
              "    }\n",
              "\n",
              "    .dataframe tbody tr th {\n",
              "        vertical-align: top;\n",
              "    }\n",
              "\n",
              "    .dataframe thead th {\n",
              "        text-align: right;\n",
              "    }\n",
              "</style>\n",
              "<table border=\"1\" class=\"dataframe\">\n",
              "  <thead>\n",
              "    <tr style=\"text-align: right;\">\n",
              "      <th></th>\n",
              "      <th>Year</th>\n",
              "      <th>Month</th>\n",
              "      <th>DayofMonth</th>\n",
              "      <th>DayOfWeek</th>\n",
              "      <th>DepTime</th>\n",
              "      <th>CRSDepTime</th>\n",
              "      <th>ArrTime</th>\n",
              "      <th>CRSArrTime</th>\n",
              "      <th>UniqueCarrier</th>\n",
              "      <th>FlightNum</th>\n",
              "      <th>TailNum</th>\n",
              "      <th>ActualElapsedTime</th>\n",
              "      <th>CRSElapsedTime</th>\n",
              "      <th>AirTime</th>\n",
              "      <th>ArrDelay</th>\n",
              "      <th>DepDelay</th>\n",
              "      <th>Origin</th>\n",
              "      <th>Dest</th>\n",
              "      <th>Distance</th>\n",
              "      <th>TaxiIn</th>\n",
              "      <th>TaxiOut</th>\n",
              "      <th>Cancelled</th>\n",
              "      <th>CancellationCode</th>\n",
              "      <th>Diverted</th>\n",
              "      <th>CarrierDelay</th>\n",
              "      <th>WeatherDelay</th>\n",
              "      <th>NASDelay</th>\n",
              "      <th>SecurityDelay</th>\n",
              "      <th>LateAircraftDelay</th>\n",
              "    </tr>\n",
              "  </thead>\n",
              "  <tbody>\n",
              "    <tr>\n",
              "      <th>0</th>\n",
              "      <td>2004</td>\n",
              "      <td>1</td>\n",
              "      <td>12</td>\n",
              "      <td>1</td>\n",
              "      <td>623.0</td>\n",
              "      <td>630</td>\n",
              "      <td>901.0</td>\n",
              "      <td>915</td>\n",
              "      <td>UA</td>\n",
              "      <td>462</td>\n",
              "      <td>N805UA</td>\n",
              "      <td>98.0</td>\n",
              "      <td>105</td>\n",
              "      <td>80.0</td>\n",
              "      <td>-14.0</td>\n",
              "      <td>-7.0</td>\n",
              "      <td>ORD</td>\n",
              "      <td>CLT</td>\n",
              "      <td>599</td>\n",
              "      <td>7</td>\n",
              "      <td>11</td>\n",
              "      <td>0</td>\n",
              "      <td>NaN</td>\n",
              "      <td>0</td>\n",
              "      <td>0</td>\n",
              "      <td>0</td>\n",
              "      <td>0</td>\n",
              "      <td>0</td>\n",
              "      <td>0</td>\n",
              "    </tr>\n",
              "    <tr>\n",
              "      <th>1</th>\n",
              "      <td>2004</td>\n",
              "      <td>1</td>\n",
              "      <td>13</td>\n",
              "      <td>2</td>\n",
              "      <td>621.0</td>\n",
              "      <td>630</td>\n",
              "      <td>911.0</td>\n",
              "      <td>915</td>\n",
              "      <td>UA</td>\n",
              "      <td>462</td>\n",
              "      <td>N851UA</td>\n",
              "      <td>110.0</td>\n",
              "      <td>105</td>\n",
              "      <td>78.0</td>\n",
              "      <td>-4.0</td>\n",
              "      <td>-9.0</td>\n",
              "      <td>ORD</td>\n",
              "      <td>CLT</td>\n",
              "      <td>599</td>\n",
              "      <td>16</td>\n",
              "      <td>16</td>\n",
              "      <td>0</td>\n",
              "      <td>NaN</td>\n",
              "      <td>0</td>\n",
              "      <td>0</td>\n",
              "      <td>0</td>\n",
              "      <td>0</td>\n",
              "      <td>0</td>\n",
              "      <td>0</td>\n",
              "    </tr>\n",
              "    <tr>\n",
              "      <th>2</th>\n",
              "      <td>2004</td>\n",
              "      <td>1</td>\n",
              "      <td>14</td>\n",
              "      <td>3</td>\n",
              "      <td>633.0</td>\n",
              "      <td>630</td>\n",
              "      <td>920.0</td>\n",
              "      <td>915</td>\n",
              "      <td>UA</td>\n",
              "      <td>462</td>\n",
              "      <td>N436UA</td>\n",
              "      <td>107.0</td>\n",
              "      <td>105</td>\n",
              "      <td>88.0</td>\n",
              "      <td>5.0</td>\n",
              "      <td>3.0</td>\n",
              "      <td>ORD</td>\n",
              "      <td>CLT</td>\n",
              "      <td>599</td>\n",
              "      <td>4</td>\n",
              "      <td>15</td>\n",
              "      <td>0</td>\n",
              "      <td>NaN</td>\n",
              "      <td>0</td>\n",
              "      <td>0</td>\n",
              "      <td>0</td>\n",
              "      <td>0</td>\n",
              "      <td>0</td>\n",
              "      <td>0</td>\n",
              "    </tr>\n",
              "    <tr>\n",
              "      <th>3</th>\n",
              "      <td>2004</td>\n",
              "      <td>1</td>\n",
              "      <td>15</td>\n",
              "      <td>4</td>\n",
              "      <td>627.0</td>\n",
              "      <td>630</td>\n",
              "      <td>859.0</td>\n",
              "      <td>915</td>\n",
              "      <td>UA</td>\n",
              "      <td>462</td>\n",
              "      <td>N828UA</td>\n",
              "      <td>92.0</td>\n",
              "      <td>105</td>\n",
              "      <td>78.0</td>\n",
              "      <td>-16.0</td>\n",
              "      <td>-3.0</td>\n",
              "      <td>ORD</td>\n",
              "      <td>CLT</td>\n",
              "      <td>599</td>\n",
              "      <td>4</td>\n",
              "      <td>10</td>\n",
              "      <td>0</td>\n",
              "      <td>NaN</td>\n",
              "      <td>0</td>\n",
              "      <td>0</td>\n",
              "      <td>0</td>\n",
              "      <td>0</td>\n",
              "      <td>0</td>\n",
              "      <td>0</td>\n",
              "    </tr>\n",
              "    <tr>\n",
              "      <th>4</th>\n",
              "      <td>2004</td>\n",
              "      <td>1</td>\n",
              "      <td>16</td>\n",
              "      <td>5</td>\n",
              "      <td>635.0</td>\n",
              "      <td>630</td>\n",
              "      <td>918.0</td>\n",
              "      <td>915</td>\n",
              "      <td>UA</td>\n",
              "      <td>462</td>\n",
              "      <td>N831UA</td>\n",
              "      <td>103.0</td>\n",
              "      <td>105</td>\n",
              "      <td>87.0</td>\n",
              "      <td>3.0</td>\n",
              "      <td>5.0</td>\n",
              "      <td>ORD</td>\n",
              "      <td>CLT</td>\n",
              "      <td>599</td>\n",
              "      <td>3</td>\n",
              "      <td>13</td>\n",
              "      <td>0</td>\n",
              "      <td>NaN</td>\n",
              "      <td>0</td>\n",
              "      <td>0</td>\n",
              "      <td>0</td>\n",
              "      <td>0</td>\n",
              "      <td>0</td>\n",
              "      <td>0</td>\n",
              "    </tr>\n",
              "  </tbody>\n",
              "</table>\n",
              "</div>"
            ],
            "text/plain": [
              "   Year  Month  DayofMonth  ...  NASDelay  SecurityDelay  LateAircraftDelay\n",
              "0  2004      1          12  ...         0              0                  0\n",
              "1  2004      1          13  ...         0              0                  0\n",
              "2  2004      1          14  ...         0              0                  0\n",
              "3  2004      1          15  ...         0              0                  0\n",
              "4  2004      1          16  ...         0              0                  0\n",
              "\n",
              "[5 rows x 29 columns]"
            ]
          },
          "metadata": {
            "tags": []
          },
          "execution_count": 28
        }
      ]
    },
    {
      "cell_type": "code",
      "metadata": {
        "id": "LeVgqUfsyCYl"
      },
      "source": [
        "#df_2003.dtypes"
      ],
      "execution_count": 23,
      "outputs": []
    },
    {
      "cell_type": "code",
      "metadata": {
        "id": "wCGcuyii1cOw"
      },
      "source": [
        "#df_2003.groupby('Origin').size()"
      ],
      "execution_count": 24,
      "outputs": []
    },
    {
      "cell_type": "code",
      "metadata": {
        "id": "1r0hd19VyCcE"
      },
      "source": [
        "df_2003_select = df_2003.loc[(df_2003['Origin'] == 'PHL') | (df_2003['Origin'] == 'BOS') | (df_2003['Dest'] == 'PHL') | (df_2003['Dest'] == 'BOS')]"
      ],
      "execution_count": 11,
      "outputs": []
    },
    {
      "cell_type": "code",
      "metadata": {
        "colab": {
          "base_uri": "https://localhost:8080/",
          "height": 222
        },
        "id": "jzgZexvqyvGP",
        "outputId": "92863c93-6c1d-4b0c-a1a5-2437cbc4d043"
      },
      "source": [
        "df_2003_select.head()"
      ],
      "execution_count": 12,
      "outputs": [
        {
          "output_type": "execute_result",
          "data": {
            "text/html": [
              "<div>\n",
              "<style scoped>\n",
              "    .dataframe tbody tr th:only-of-type {\n",
              "        vertical-align: middle;\n",
              "    }\n",
              "\n",
              "    .dataframe tbody tr th {\n",
              "        vertical-align: top;\n",
              "    }\n",
              "\n",
              "    .dataframe thead th {\n",
              "        text-align: right;\n",
              "    }\n",
              "</style>\n",
              "<table border=\"1\" class=\"dataframe\">\n",
              "  <thead>\n",
              "    <tr style=\"text-align: right;\">\n",
              "      <th></th>\n",
              "      <th>Year</th>\n",
              "      <th>Month</th>\n",
              "      <th>DayofMonth</th>\n",
              "      <th>DayOfWeek</th>\n",
              "      <th>DepTime</th>\n",
              "      <th>CRSDepTime</th>\n",
              "      <th>ArrTime</th>\n",
              "      <th>CRSArrTime</th>\n",
              "      <th>UniqueCarrier</th>\n",
              "      <th>FlightNum</th>\n",
              "      <th>TailNum</th>\n",
              "      <th>ActualElapsedTime</th>\n",
              "      <th>CRSElapsedTime</th>\n",
              "      <th>AirTime</th>\n",
              "      <th>ArrDelay</th>\n",
              "      <th>DepDelay</th>\n",
              "      <th>Origin</th>\n",
              "      <th>Dest</th>\n",
              "      <th>Distance</th>\n",
              "      <th>TaxiIn</th>\n",
              "      <th>TaxiOut</th>\n",
              "      <th>Cancelled</th>\n",
              "      <th>CancellationCode</th>\n",
              "      <th>Diverted</th>\n",
              "      <th>CarrierDelay</th>\n",
              "      <th>WeatherDelay</th>\n",
              "      <th>NASDelay</th>\n",
              "      <th>SecurityDelay</th>\n",
              "      <th>LateAircraftDelay</th>\n",
              "    </tr>\n",
              "  </thead>\n",
              "  <tbody>\n",
              "    <tr>\n",
              "      <th>9</th>\n",
              "      <td>2003</td>\n",
              "      <td>1</td>\n",
              "      <td>1</td>\n",
              "      <td>3</td>\n",
              "      <td>1713.0</td>\n",
              "      <td>1710</td>\n",
              "      <td>1851.0</td>\n",
              "      <td>1847</td>\n",
              "      <td>UA</td>\n",
              "      <td>1020</td>\n",
              "      <td>N567UA</td>\n",
              "      <td>98.0</td>\n",
              "      <td>97.0</td>\n",
              "      <td>62.0</td>\n",
              "      <td>4.0</td>\n",
              "      <td>3.0</td>\n",
              "      <td>IAD</td>\n",
              "      <td>BOS</td>\n",
              "      <td>413</td>\n",
              "      <td>7</td>\n",
              "      <td>29</td>\n",
              "      <td>0</td>\n",
              "      <td>NaN</td>\n",
              "      <td>0</td>\n",
              "      <td>NaN</td>\n",
              "      <td>NaN</td>\n",
              "      <td>NaN</td>\n",
              "      <td>NaN</td>\n",
              "      <td>NaN</td>\n",
              "    </tr>\n",
              "    <tr>\n",
              "      <th>10</th>\n",
              "      <td>2003</td>\n",
              "      <td>1</td>\n",
              "      <td>2</td>\n",
              "      <td>4</td>\n",
              "      <td>1706.0</td>\n",
              "      <td>1710</td>\n",
              "      <td>1824.0</td>\n",
              "      <td>1847</td>\n",
              "      <td>UA</td>\n",
              "      <td>1020</td>\n",
              "      <td>N561UA</td>\n",
              "      <td>78.0</td>\n",
              "      <td>97.0</td>\n",
              "      <td>59.0</td>\n",
              "      <td>-23.0</td>\n",
              "      <td>-4.0</td>\n",
              "      <td>IAD</td>\n",
              "      <td>BOS</td>\n",
              "      <td>413</td>\n",
              "      <td>7</td>\n",
              "      <td>12</td>\n",
              "      <td>0</td>\n",
              "      <td>NaN</td>\n",
              "      <td>0</td>\n",
              "      <td>NaN</td>\n",
              "      <td>NaN</td>\n",
              "      <td>NaN</td>\n",
              "      <td>NaN</td>\n",
              "      <td>NaN</td>\n",
              "    </tr>\n",
              "    <tr>\n",
              "      <th>11</th>\n",
              "      <td>2003</td>\n",
              "      <td>1</td>\n",
              "      <td>3</td>\n",
              "      <td>5</td>\n",
              "      <td>1707.0</td>\n",
              "      <td>1710</td>\n",
              "      <td>1828.0</td>\n",
              "      <td>1847</td>\n",
              "      <td>UA</td>\n",
              "      <td>1020</td>\n",
              "      <td>N554UA</td>\n",
              "      <td>81.0</td>\n",
              "      <td>97.0</td>\n",
              "      <td>58.0</td>\n",
              "      <td>-19.0</td>\n",
              "      <td>-3.0</td>\n",
              "      <td>IAD</td>\n",
              "      <td>BOS</td>\n",
              "      <td>413</td>\n",
              "      <td>8</td>\n",
              "      <td>15</td>\n",
              "      <td>0</td>\n",
              "      <td>NaN</td>\n",
              "      <td>0</td>\n",
              "      <td>NaN</td>\n",
              "      <td>NaN</td>\n",
              "      <td>NaN</td>\n",
              "      <td>NaN</td>\n",
              "      <td>NaN</td>\n",
              "    </tr>\n",
              "    <tr>\n",
              "      <th>12</th>\n",
              "      <td>2003</td>\n",
              "      <td>1</td>\n",
              "      <td>4</td>\n",
              "      <td>6</td>\n",
              "      <td>1710.0</td>\n",
              "      <td>1710</td>\n",
              "      <td>1835.0</td>\n",
              "      <td>1847</td>\n",
              "      <td>UA</td>\n",
              "      <td>1020</td>\n",
              "      <td>N535UA</td>\n",
              "      <td>85.0</td>\n",
              "      <td>97.0</td>\n",
              "      <td>61.0</td>\n",
              "      <td>-12.0</td>\n",
              "      <td>0.0</td>\n",
              "      <td>IAD</td>\n",
              "      <td>BOS</td>\n",
              "      <td>413</td>\n",
              "      <td>8</td>\n",
              "      <td>16</td>\n",
              "      <td>0</td>\n",
              "      <td>NaN</td>\n",
              "      <td>0</td>\n",
              "      <td>NaN</td>\n",
              "      <td>NaN</td>\n",
              "      <td>NaN</td>\n",
              "      <td>NaN</td>\n",
              "      <td>NaN</td>\n",
              "    </tr>\n",
              "    <tr>\n",
              "      <th>13</th>\n",
              "      <td>2003</td>\n",
              "      <td>1</td>\n",
              "      <td>5</td>\n",
              "      <td>7</td>\n",
              "      <td>1832.0</td>\n",
              "      <td>1710</td>\n",
              "      <td>1951.0</td>\n",
              "      <td>1847</td>\n",
              "      <td>UA</td>\n",
              "      <td>1020</td>\n",
              "      <td>N571UA</td>\n",
              "      <td>79.0</td>\n",
              "      <td>97.0</td>\n",
              "      <td>57.0</td>\n",
              "      <td>64.0</td>\n",
              "      <td>82.0</td>\n",
              "      <td>IAD</td>\n",
              "      <td>BOS</td>\n",
              "      <td>413</td>\n",
              "      <td>7</td>\n",
              "      <td>15</td>\n",
              "      <td>0</td>\n",
              "      <td>NaN</td>\n",
              "      <td>0</td>\n",
              "      <td>NaN</td>\n",
              "      <td>NaN</td>\n",
              "      <td>NaN</td>\n",
              "      <td>NaN</td>\n",
              "      <td>NaN</td>\n",
              "    </tr>\n",
              "  </tbody>\n",
              "</table>\n",
              "</div>"
            ],
            "text/plain": [
              "    Year  Month  DayofMonth  ...  NASDelay  SecurityDelay  LateAircraftDelay\n",
              "9   2003      1           1  ...       NaN            NaN                NaN\n",
              "10  2003      1           2  ...       NaN            NaN                NaN\n",
              "11  2003      1           3  ...       NaN            NaN                NaN\n",
              "12  2003      1           4  ...       NaN            NaN                NaN\n",
              "13  2003      1           5  ...       NaN            NaN                NaN\n",
              "\n",
              "[5 rows x 29 columns]"
            ]
          },
          "metadata": {
            "tags": []
          },
          "execution_count": 12
        }
      ]
    },
    {
      "cell_type": "code",
      "metadata": {
        "id": "PU6qmr5f8XjH"
      },
      "source": [
        "depart_2003 = df_2003.loc[(df_2003['Origin'] == 'PHL') | (df_2003['Origin'] == 'BOS')]\n",
        "\n",
        "arrival_2003 = df_2003.loc[(df_2003['Dest'] == 'PHL') | (df_2003['Dest'] == 'BOS')]"
      ],
      "execution_count": 34,
      "outputs": []
    },
    {
      "cell_type": "code",
      "metadata": {
        "colab": {
          "base_uri": "https://localhost:8080/"
        },
        "id": "_PtZlDsD8w-3",
        "outputId": "a3ad2169-b4fb-4fc6-dfff-d625b0ea4496"
      },
      "source": [
        "depart_2003.groupby('Origin').size()"
      ],
      "execution_count": 32,
      "outputs": [
        {
          "output_type": "execute_result",
          "data": {
            "text/plain": [
              "Origin\n",
              "BOS    115460\n",
              "PHL    108742\n",
              "dtype: int64"
            ]
          },
          "metadata": {
            "tags": []
          },
          "execution_count": 32
        }
      ]
    },
    {
      "cell_type": "code",
      "metadata": {
        "colab": {
          "base_uri": "https://localhost:8080/"
        },
        "id": "MjPNWgRY9I0V",
        "outputId": "268a9dd1-8e6a-46b6-8db9-ef77f87a867c"
      },
      "source": [
        "arrival_2003.groupby('Dest').size()"
      ],
      "execution_count": 35,
      "outputs": [
        {
          "output_type": "execute_result",
          "data": {
            "text/plain": [
              "Dest\n",
              "BOS    115474\n",
              "PHL    108736\n",
              "dtype: int64"
            ]
          },
          "metadata": {
            "tags": []
          },
          "execution_count": 35
        }
      ]
    },
    {
      "cell_type": "code",
      "metadata": {
        "id": "znwRZXPK5Dis"
      },
      "source": [
        "df_2004_select = df_2004.loc[(df_2004['Origin'] == 'PHL') | (df_2004['Origin'] == 'BOS') | (df_2004['Dest'] == 'PHL') | (df_2004['Dest'] == 'BOS')]"
      ],
      "execution_count": 29,
      "outputs": []
    },
    {
      "cell_type": "code",
      "metadata": {
        "id": "bdWR5ugB7_EQ"
      },
      "source": [
        ""
      ],
      "execution_count": null,
      "outputs": []
    },
    {
      "cell_type": "code",
      "metadata": {
        "id": "MfDfUHcM7_Hq"
      },
      "source": [
        ""
      ],
      "execution_count": null,
      "outputs": []
    },
    {
      "cell_type": "code",
      "metadata": {
        "id": "W91UWSZm1rLG"
      },
      "source": [
        "df1.append(df2, ignore_index = True)"
      ],
      "execution_count": 22,
      "outputs": []
    }
  ]
}